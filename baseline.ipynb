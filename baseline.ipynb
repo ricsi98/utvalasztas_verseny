{
 "cells": [
  {
   "cell_type": "code",
   "execution_count": 96,
   "metadata": {},
   "outputs": [
    {
     "name": "stderr",
     "output_type": "stream",
     "text": [
      "100%|██████████| 200/200 [00:22<00:00,  8.94it/s]\n",
      "100%|██████████| 200/200 [00:21<00:00,  9.49it/s]\n",
      "100%|██████████| 200/200 [00:21<00:00,  9.21it/s]\n",
      "100%|██████████| 200/200 [00:20<00:00,  9.58it/s]\n",
      "100%|██████████| 200/200 [00:19<00:00, 10.34it/s]\n",
      "100%|██████████| 200/200 [00:18<00:00, 10.57it/s]\n",
      "100%|██████████| 200/200 [00:18<00:00, 10.78it/s]\n",
      "100%|██████████| 200/200 [00:17<00:00, 11.37it/s]\n",
      "100%|██████████| 200/200 [00:17<00:00, 11.48it/s]\n",
      "100%|██████████| 200/200 [00:17<00:00, 11.67it/s]\n",
      "100%|██████████| 200/200 [00:15<00:00, 12.59it/s]\n",
      "100%|██████████| 200/200 [00:15<00:00, 12.81it/s]\n",
      "100%|██████████| 200/200 [00:14<00:00, 13.41it/s]\n",
      "100%|██████████| 200/200 [00:15<00:00, 13.25it/s]\n",
      "100%|██████████| 200/200 [00:13<00:00, 14.40it/s]\n",
      "100%|██████████| 200/200 [00:14<00:00, 13.97it/s]\n",
      "100%|██████████| 200/200 [00:14<00:00, 13.65it/s]\n",
      "100%|██████████| 200/200 [00:13<00:00, 14.44it/s]\n",
      "100%|██████████| 200/200 [00:15<00:00, 13.16it/s]\n",
      "100%|██████████| 200/200 [00:15<00:00, 12.82it/s]\n",
      "100%|██████████| 200/200 [00:16<00:00, 11.98it/s]\n",
      "100%|██████████| 200/200 [00:17<00:00, 11.37it/s]\n",
      "100%|██████████| 200/200 [00:19<00:00, 10.20it/s]\n",
      "100%|██████████| 200/200 [00:21<00:00,  9.51it/s]\n",
      "100%|██████████| 200/200 [00:23<00:00,  8.34it/s]\n",
      "100%|██████████| 200/200 [00:28<00:00,  7.14it/s]\n"
     ]
    }
   ],
   "source": [
    "import numpy as np\n",
    "from collections import Counter\n",
    "\n",
    "def manhattan(x1, y1, x2, y2):\n",
    "    return abs(x1 - x2) + abs(y1 - y2)\n",
    "\n",
    "def step(cx, cy, tx, ty, lrx, lry):\n",
    "    dc = manhattan(cx, cy, tx, ty)\n",
    "    dl = manhattan(lrx, lry, tx, ty)\n",
    "    if dl < dc-1:\n",
    "        return lrx, lry\n",
    "    if cx < tx:\n",
    "        cx += 1\n",
    "    elif cx > tx:\n",
    "        cx -= 1\n",
    "    else:\n",
    "        if cy < ty:\n",
    "            cy += 1\n",
    "        elif cy > ty:\n",
    "            cy -= 1\n",
    "    return cx, cy\n",
    "\n",
    "\n",
    "N = 501\n",
    "#reference = sample_lr(0, 0, N, ALPHA)\n",
    "\n",
    "precomputed = np.zeros((N*2, N*2))\n",
    "for i in range(N*2):\n",
    "    for j in range(N*2):\n",
    "        precomputed[i, j] = manhattan(i,j, N, N)\n",
    "\n",
    "def fast_distance_mtx(cx, cy):\n",
    "    xstart = N - cx\n",
    "    ystart = N - cy\n",
    "    return precomputed[xstart:xstart+N, ystart:ystart+N]\n",
    "\n",
    "def fast_proba_mtx(cx, cy):\n",
    "    xstart = N - cx\n",
    "    ystart = N - cy\n",
    "    return precomputed_proba[xstart:xstart+N, ystart:ystart+N]\n",
    "\n",
    "\n",
    "indices = np.arange(N**2)\n",
    "\n",
    "\n",
    "def sample_lr(cx, cy, n, alpha):\n",
    "    proba_matrix = fast_proba_mtx(cx, cy)\n",
    "    probas = proba_matrix.flatten()\n",
    "    probas[np.isnan(probas)] = 0\n",
    "    probas /= np.sum(probas)\n",
    "    choice = np.random.choice(indices, p=probas)\n",
    "    tx, ty = choice // n, choice % n\n",
    "    return tx, ty\n",
    "\n",
    "\n",
    "#ALPHA = 1.0\n",
    "\n",
    "distances = {}\n",
    "from tqdm import tqdm\n",
    "for alpha in np.linspace(0, 2.5, 26):\n",
    "    precomputed_proba = np.zeros((N*2, N*2))\n",
    "    for i in range(N*2):\n",
    "        for j in range(N*2):\n",
    "            d = precomputed[i, j]\n",
    "            if d <= 1:\n",
    "                continue\n",
    "            precomputed_proba[i, j] = d ** -alpha\n",
    "\n",
    "    distances[alpha] = []\n",
    "\n",
    "    for _ in tqdm(range(200), total=200):\n",
    "        cx, cy = (np.random.randint(0, N), np.random.randint(0, N))\n",
    "        tx, ty = (np.random.randint(0, N), np.random.randint(0, N))\n",
    "        steps = 0\n",
    "        while not (cx == tx and cy == ty):\n",
    "            steps += 1\n",
    "            cx, cy = step(cx, cy, tx, ty, *sample_lr(cx, cy, N, alpha))\n",
    "        \n",
    "        distances[alpha].append(steps)"
   ]
  },
  {
   "cell_type": "code",
   "execution_count": 97,
   "metadata": {},
   "outputs": [
    {
     "data": {
      "text/plain": [
       "[<matplotlib.lines.Line2D at 0x79da3c1077f0>]"
      ]
     },
     "execution_count": 97,
     "metadata": {},
     "output_type": "execute_result"
    },
    {
     "data": {
      "image/png": "[encoded data removed]",
      "text/plain": [
       "<Figure size 640x480 with 1 Axes>"
      ]
     },
     "metadata": {},
     "output_type": "display_data"
    }
   ],
   "source": [
    "import matplotlib.pyplot as plt\n",
    "\n",
    "plt.plot(distances.keys(), [np.mean(distances[alpha]) for alpha in distances.keys()])"
   ]
  },
  {
   "cell_type": "code",
   "execution_count": null,
   "metadata": {},
   "outputs": [],
   "source": []
  }
 ],
 "metadata": {
  "kernelspec": {
   "display_name": "base",
   "language": "python",
   "name": "python3"
  },
  "language_info": {
   "codemirror_mode": {
    "name": "ipython",
    "version": 3
   },
   "file_extension": ".py",
   "mimetype": "text/x-python",
   "name": "python",
   "nbconvert_exporter": "python",
   "pygments_lexer": "ipython3",
   "version": "3.8.18"
  }
 },
 "nbformat": 4,
 "nbformat_minor": 2
}
