{
 "cells": [
  {
   "cell_type": "code",
   "execution_count": 67,
   "metadata": {},
   "outputs": [
    {
     "name": "stderr",
     "output_type": "stream",
     "text": [
      "100%|██████████| 50/50 [00:18<00:00,  2.73it/s]\n",
      "100%|██████████| 50/50 [00:21<00:00,  2.35it/s]\n",
      "100%|██████████| 50/50 [00:17<00:00,  2.78it/s]\n",
      "100%|██████████| 50/50 [00:17<00:00,  2.87it/s]\n",
      "100%|██████████| 50/50 [00:15<00:00,  3.19it/s]\n",
      "100%|██████████| 50/50 [00:12<00:00,  3.91it/s]\n",
      "100%|██████████| 50/50 [00:14<00:00,  3.41it/s]\n",
      "100%|██████████| 50/50 [00:10<00:00,  4.88it/s]\n",
      "100%|██████████| 50/50 [00:11<00:00,  4.37it/s]\n",
      "100%|██████████| 50/50 [00:05<00:00,  8.94it/s]\n",
      "100%|██████████| 50/50 [00:04<00:00, 10.15it/s]\n",
      "100%|██████████| 50/50 [00:06<00:00,  8.15it/s]\n",
      "100%|██████████| 50/50 [00:07<00:00,  6.66it/s]\n"
     ]
    }
   ],
   "source": [
    "import numpy as np\n",
    "from collections import Counter\n",
    "\n",
    "def manhattan(x1, y1, x2, y2):\n",
    "    return abs(x1 - x2) + abs(y1 - y2)\n",
    "\n",
    "def step(cx, cy, tx, ty, lrx, lry):\n",
    "    dc = manhattan(cx, cy, tx, ty)\n",
    "    dl = manhattan(lrx, lry, tx, ty)\n",
    "    if dl < dc-1:\n",
    "        return lrx, lry\n",
    "    if cx < tx:\n",
    "        cx += 1\n",
    "    elif cx > tx:\n",
    "        cx -= 1\n",
    "    else:\n",
    "        if cy < ty:\n",
    "            cy += 1\n",
    "        elif cy > ty:\n",
    "            cy -= 1\n",
    "    return cx, cy\n",
    "\n",
    "\n",
    "N = 501\n",
    "#reference = sample_lr(0, 0, N, ALPHA)\n",
    "\n",
    "precomputed = np.zeros((N*2, N*2))\n",
    "for i in range(N*2):\n",
    "    for j in range(N*2):\n",
    "        precomputed[i, j] = manhattan(i,j, N, N)\n",
    "\n",
    "def fast_distance_mtx(cx, cy):\n",
    "    xstart = N - cx\n",
    "    ystart = N - cy\n",
    "    return precomputed[xstart:xstart+N, ystart:ystart+N]\n",
    "\n",
    "def fast_proba_mtx(cx, cy):\n",
    "    xstart = N - cx\n",
    "    ystart = N - cy\n",
    "    return precomputed_proba[xstart:xstart+N, ystart:ystart+N]\n",
    "\n",
    "\n",
    "\n",
    "def sample_lr(cx, cy, n, alpha):\n",
    "    proba_matrix = fast_proba_mtx(cx, cy)\n",
    "\n",
    "    proba_matrix /= np.sum(proba_matrix)\n",
    "\n",
    "    probas = proba_matrix.flatten()\n",
    "    indices = np.arange(n**2)\n",
    "    choice = np.random.choice(indices, p=probas)\n",
    "    tx, ty = choice // n, choice % n\n",
    "    return tx, ty\n",
    "\n",
    "\n",
    "#ALPHA = 1.0\n",
    "\n",
    "distances = {}\n",
    "from tqdm import tqdm\n",
    "for alpha in np.linspace(0, 2.5, 13):\n",
    "    precomputed_proba = np.zeros((N*2, N*2))\n",
    "    for i in range(N*2):\n",
    "        for j in range(N*2):\n",
    "            d = precomputed[i, j]\n",
    "            if d <= 1:\n",
    "                continue\n",
    "            precomputed_proba[i, j] = d ** -alpha\n",
    "    distances[alpha] = []\n",
    "\n",
    "    for _ in tqdm(range(50), total=50):\n",
    "        cx, cy = (np.random.randint(0, N), np.random.randint(0, N))\n",
    "        tx, ty = (np.random.randint(0, N), np.random.randint(0, N))\n",
    "        steps = 0\n",
    "        while not (cx == tx and cy == ty):\n",
    "            steps += 1\n",
    "            cx, cy = step(cx, cy, tx, ty, *sample_lr(cx, cy, N, alpha))\n",
    "        \n",
    "        distances[alpha].append(steps)"
   ]
  },
  {
   "cell_type": "code",
   "execution_count": 68,
   "metadata": {},
   "outputs": [
    {
     "data": {
      "text/plain": [
       "[<matplotlib.lines.Line2D at 0x79da3426cdc0>]"
      ]
     },
     "execution_count": 68,
     "metadata": {},
     "output_type": "execute_result"
    },
    {
     "data": {
      "image/png": "[encoded data removed]",
      "text/plain": [
       "<Figure size 640x480 with 1 Axes>"
      ]
     },
     "metadata": {},
     "output_type": "display_data"
    }
   ],
   "source": [
    "import matplotlib.pyplot as plt\n",
    "\n",
    "plt.plot(distances.keys(), [np.mean(distances[alpha]) for alpha in distances.keys()])"
   ]
  },
  {
   "cell_type": "code",
   "execution_count": null,
   "metadata": {},
   "outputs": [],
   "source": []
  }
 ],
 "metadata": {
  "kernelspec": {
   "display_name": "base",
   "language": "python",
   "name": "python3"
  },
  "language_info": {
   "codemirror_mode": {
    "name": "ipython",
    "version": 3
   },
   "file_extension": ".py",
   "mimetype": "text/x-python",
   "name": "python",
   "nbconvert_exporter": "python",
   "pygments_lexer": "ipython3",
   "version": "3.8.18"
  }
 },
 "nbformat": 4,
 "nbformat_minor": 2
}
