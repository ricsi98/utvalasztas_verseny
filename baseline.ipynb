{
 "cells": [
  {
   "cell_type": "code",
   "execution_count": 96,
   "metadata": {},
   "outputs": [
    {
     "name": "stderr",
     "output_type": "stream",
     "text": [
      "100%|██████████| 200/200 [00:22<00:00,  8.94it/s]\n",
      " 84%|████████▍ | 168/200 [00:17<00:03,  8.96it/s]"
     ]
    }
   ],
   "source": [
    "import numpy as np\n",
    "from collections import Counter\n",
    "\n",
    "def manhattan(x1, y1, x2, y2):\n",
    "    return abs(x1 - x2) + abs(y1 - y2)\n",
    "\n",
    "def step(cx, cy, tx, ty, lrx, lry):\n",
    "    dc = manhattan(cx, cy, tx, ty)\n",
    "    dl = manhattan(lrx, lry, tx, ty)\n",
    "    if dl < dc-1:\n",
    "        return lrx, lry\n",
    "    if cx < tx:\n",
    "        cx += 1\n",
    "    elif cx > tx:\n",
    "        cx -= 1\n",
    "    else:\n",
    "        if cy < ty:\n",
    "            cy += 1\n",
    "        elif cy > ty:\n",
    "            cy -= 1\n",
    "    return cx, cy\n",
    "\n",
    "\n",
    "N = 501\n",
    "#reference = sample_lr(0, 0, N, ALPHA)\n",
    "\n",
    "precomputed = np.zeros((N*2, N*2))\n",
    "for i in range(N*2):\n",
    "    for j in range(N*2):\n",
    "        precomputed[i, j] = manhattan(i,j, N, N)\n",
    "\n",
    "def fast_distance_mtx(cx, cy):\n",
    "    xstart = N - cx\n",
    "    ystart = N - cy\n",
    "    return precomputed[xstart:xstart+N, ystart:ystart+N]\n",
    "\n",
    "def fast_proba_mtx(cx, cy):\n",
    "    xstart = N - cx\n",
    "    ystart = N - cy\n",
    "    return precomputed_proba[xstart:xstart+N, ystart:ystart+N]\n",
    "\n",
    "\n",
    "indices = np.arange(N**2)\n",
    "\n",
    "\n",
    "def sample_lr(cx, cy, n, alpha):\n",
    "    proba_matrix = fast_proba_mtx(cx, cy)\n",
    "    probas = proba_matrix.flatten()\n",
    "    probas[np.isnan(probas)] = 0\n",
    "    probas /= np.sum(probas)\n",
    "    choice = np.random.choice(indices, p=probas)\n",
    "    tx, ty = choice // n, choice % n\n",
    "    return tx, ty\n",
    "\n",
    "\n",
    "#ALPHA = 1.0\n",
    "\n",
    "distances = {}\n",
    "from tqdm import tqdm\n",
    "for alpha in np.linspace(0, 2.5, 26):\n",
    "    precomputed_proba = np.zeros((N*2, N*2))\n",
    "    for i in range(N*2):\n",
    "        for j in range(N*2):\n",
    "            d = precomputed[i, j]\n",
    "            if d <= 1:\n",
    "                continue\n",
    "            precomputed_proba[i, j] = d ** -alpha\n",
    "\n",
    "    distances[alpha] = []\n",
    "\n",
    "    for _ in tqdm(range(200), total=200):\n",
    "        cx, cy = (np.random.randint(0, N), np.random.randint(0, N))\n",
    "        tx, ty = (np.random.randint(0, N), np.random.randint(0, N))\n",
    "        steps = 0\n",
    "        while not (cx == tx and cy == ty):\n",
    "            steps += 1\n",
    "            cx, cy = step(cx, cy, tx, ty, *sample_lr(cx, cy, N, alpha))\n",
    "        \n",
    "        distances[alpha].append(steps)"
   ]
  },
  {
   "cell_type": "code",
   "execution_count": 95,
   "metadata": {},
   "outputs": [
    {
     "data": {
      "text/plain": [
       "[<matplotlib.lines.Line2D at 0x79da3585dfa0>]"
      ]
     },
     "execution_count": 95,
     "metadata": {},
     "output_type": "execute_result"
    },
    {
     "data": {
      "image/png": "[encoded data removed]",
      "text/plain": [
       "<Figure size 640x480 with 1 Axes>"
      ]
     },
     "metadata": {},
     "output_type": "display_data"
    }
   ],
   "source": [
    "import matplotlib.pyplot as plt\n",
    "\n",
    "plt.plot(distances.keys(), [np.mean(distances[alpha]) for alpha in distances.keys()])"
   ]
  },
  {
   "cell_type": "code",
   "execution_count": null,
   "metadata": {},
   "outputs": [],
   "source": []
  }
 ],
 "metadata": {
  "kernelspec": {
   "display_name": "base",
   "language": "python",
   "name": "python3"
  },
  "language_info": {
   "codemirror_mode": {
    "name": "ipython",
    "version": 3
   },
   "file_extension": ".py",
   "mimetype": "text/x-python",
   "name": "python",
   "nbconvert_exporter": "python",
   "pygments_lexer": "ipython3",
   "version": "3.8.18"
  }
 },
 "nbformat": 4,
 "nbformat_minor": 2
}
