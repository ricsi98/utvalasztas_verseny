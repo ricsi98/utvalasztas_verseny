{
 "cells": [
  {
   "cell_type": "code",
   "execution_count": 1,
   "metadata": {},
   "outputs": [],
   "source": [
    "import numpy as np\n",
    "import matplotlib.pyplot as plt"
   ]
  },
  {
   "cell_type": "code",
   "execution_count": 2,
   "metadata": {},
   "outputs": [],
   "source": [
    "def manhattan(x1: int, y1: int, x2: int, y2: int) -> int:\n",
    "    return abs(x1 - x2) + abs(y1 - y2)\n",
    "\n",
    "def lr_proba(dist, alpha):\n",
    "    if not isinstance(dist, np.ndarray):\n",
    "        dist = np.array(dist, dtype=float)\n",
    "    \n",
    "    zero_mask = dist <= 1\n",
    "    result = np.zeros_like(dist)\n",
    "    result[~zero_mask] = dist[~zero_mask] ** -alpha\n",
    "    return result"
   ]
  },
  {
   "cell_type": "markdown",
   "metadata": {},
   "source": [
    "# Sampling offset distance"
   ]
  },
  {
   "cell_type": "code",
   "execution_count": 3,
   "metadata": {},
   "outputs": [
    {
     "data": {
      "text/plain": [
       "Text(0, 0.5, 'Probability')"
      ]
     },
     "execution_count": 3,
     "metadata": {},
     "output_type": "execute_result"
    },
    {
     "data": {
      "image/png": "[encoded data removed]",
      "text/plain": [
       "<Figure size 640x480 with 1 Axes>"
      ]
     },
     "metadata": {},
     "output_type": "display_data"
    }
   ],
   "source": [
    "from scipy.stats.sampling import DiscreteAliasUrn\n",
    "\n",
    "def num_of_distance(n,i):\n",
    "    assert n % 2 == 1\n",
    "    diameter = (n-1) // 2\n",
    "    if i == 0:\n",
    "        return 1\n",
    "    if i <= diameter:\n",
    "        return 4 * i\n",
    "    z = 2*diameter - i+1\n",
    "    return 4 * z\n",
    "\n",
    "\n",
    "class ReferenceDistanceSampler:\n",
    "    def __init__(self, n: int, alpha: float):\n",
    "        self.n = n\n",
    "        self.alpha = alpha\n",
    "        proba_mtx = np.zeros((n*2+1, n*2+1))\n",
    "        for i in range(n*2+1):\n",
    "            for j in range(n*2+1):\n",
    "                dist = manhattan(n, n, i, j)\n",
    "                proba_mtx[i, j] = lr_proba(dist, alpha)\n",
    "        proba_mtx /= proba_mtx.sum()\n",
    "        self.probas = proba_mtx.flatten()\n",
    "        self.index = np.arange(len(self.probas))\n",
    "\n",
    "    def sample(self, num_samples: int = 1):\n",
    "        indices = np.random.choice(self.index, p=self.probas, size=num_samples)\n",
    "        x, y = np.unravel_index(indices, (self.n*2+1, self.n*2+1))\n",
    "        x -= self.n\n",
    "        y -= self.n\n",
    "        return np.abs(x) + np.abs(y)\n",
    "    \n",
    "\n",
    "class MultinomialDistanceSampler:\n",
    "    def __init__(self, n: int, alpha: float) -> None:\n",
    "        self.n = n\n",
    "        self.alpha = alpha\n",
    "        self.max_dist = n*2+1\n",
    "        self.values = np.arange(2, self.max_dist+1)\n",
    "        self.probas = lr_proba(self.values.astype(float), alpha)\n",
    "        for i in range(2, self.max_dist+1):\n",
    "            self.probas[i-2] *= num_of_distance(n*2+1, i)\n",
    "        self.probas /= self.probas.sum()\n",
    "\n",
    "    def sample(self, num_samples: int = 1):\n",
    "        return np.random.choice(self.values, p=self.probas, size=num_samples)\n",
    "    \n",
    "\n",
    "class AliasDistanceSampler:\n",
    "    def __init__(self, n: int, alpha: float) -> None:\n",
    "        self.n = n\n",
    "        self.alpha = alpha\n",
    "        self.max_dist = n*2+1\n",
    "        self.values = np.arange(2, self.max_dist+1)\n",
    "        self.probas = lr_proba(self.values.astype(float), alpha)\n",
    "        for i in range(2, self.max_dist+1):\n",
    "            self.probas[i-2] *= num_of_distance(n*2+1, i)\n",
    "        self.probas /= self.probas.sum()\n",
    "        self.alias = DiscreteAliasUrn(self.probas, urn_factor=1.0)\n",
    "\n",
    "    def sample(self, num_samples: int = 1):\n",
    "        return self.values[self.alias.rvs(num_samples)]\n",
    "\n",
    "\n",
    "\n",
    "\n",
    "\n",
    "\n",
    "m = AliasDistanceSampler(10,1)\n",
    "s = ReferenceDistanceSampler(10, 1)\n",
    "samples = s.sample(100000)\n",
    "samples2 = m.sample(100000)\n",
    "plt.hist(samples, bins=len(set(samples)), density=True, alpha=.78)\n",
    "plt.hist(samples2, bins=len(set(samples2)), density=True, alpha=.78)\n",
    "plt.plot(m.values, m.probas, 'r')\n",
    "plt.xlabel('Distance')\n",
    "plt.ylabel('Probability')"
   ]
  },
  {
   "cell_type": "code",
   "execution_count": null,
   "metadata": {},
   "outputs": [],
   "source": []
  },
  {
   "cell_type": "code",
   "execution_count": null,
   "metadata": {},
   "outputs": [],
   "source": []
  },
  {
   "cell_type": "code",
   "execution_count": null,
   "metadata": {},
   "outputs": [],
   "source": [
    "m."
   ]
  },
  {
   "cell_type": "code",
   "execution_count": 5,
   "metadata": {},
   "outputs": [
    {
     "name": "stdout",
     "output_type": "stream",
     "text": [
      "[(1, 5), (2, 4), (3, 3), (4, 2), (5, 1), (5, -1), (4, -2), (3, -3), (2, -4), (1, -5), (-1, -5), (-2, -4), (-3, -3), (-4, -2), (-5, -1), (-5, 1), (-4, 2), (-3, 3), (-2, 4), (-1, 5)]\n",
      "[(-5, -1), (-5, 1), (-4, -2), (-4, 2), (-3, -3), (-3, 3), (-2, -4), (-2, 4), (-1, -5), (-1, 5), (1, -5), (1, 5), (2, -4), (2, 4), (3, -3), (3, 3), (4, -2), (4, 2), (5, -1), (5, 1)]\n"
     ]
    }
   ],
   "source": [
    "class ReferenceDistanceIndex2Offset:\n",
    "\n",
    "    def __init__(self, n: int) -> None:\n",
    "        self.n = n\n",
    "        self.distances = np.zeros((n*2+1, n*2+1))\n",
    "        for i in range(n*2+1):\n",
    "            for j in range(n*2+1):\n",
    "                dist = manhattan(n, n, i, j)\n",
    "                self.distances[i, j] = dist\n",
    "\n",
    "    def sample(self, distance: int, index: int):\n",
    "        x,y = (self.distances == distance).nonzero()\n",
    "        x -= self.n\n",
    "        y -= self.n\n",
    "        return x[index], y[index]\n",
    "    \n",
    "\n",
    "class FastDistanceIndex2Offset:\n",
    "\n",
    "    def __init__(self, n: int) -> None:\n",
    "        self.n = n\n",
    "\n",
    "    def sample(self, distance: int, index: int):\n",
    "        # TODO: support arrays\n",
    "        n = num_of_distance(self.n*2+1, distance)\n",
    "        assert index < n, f'Index {index} is out of bounds for distance {distance}'\n",
    "        fields_per_side = n // 4\n",
    "        field_idx = index // fields_per_side\n",
    "        remainder = index % fields_per_side\n",
    "        \n",
    "        min_x = max(1, distance - self.n)\n",
    "        dx = min_x + remainder\n",
    "        dy = distance - dx\n",
    "        if field_idx == 0:\n",
    "            return dx, dy\n",
    "        elif field_idx == 1:\n",
    "            return dy, -dx\n",
    "        elif field_idx == 2:\n",
    "            return -dx, -dy\n",
    "        else:\n",
    "            return -dy, dx\n",
    "\n",
    "\n",
    "\n",
    "k = 6\n",
    "n = 5\n",
    "q = FastDistanceIndex2Offset(n)\n",
    "qref = ReferenceDistanceIndex2Offset(n)\n",
    "indices = [q.sample(k, i) for i in range(num_of_distance(n*2+1, k))]\n",
    "indices2 = [qref.sample(k, i) for i in range(num_of_distance(n*2+1, k))]\n",
    "print(indices)\n",
    "print(indices2)\n",
    "assert set(indices) == set(indices2)"
   ]
  },
  {
   "cell_type": "markdown",
   "metadata": {},
   "source": [
    "# Sampling offset"
   ]
  },
  {
   "cell_type": "code",
   "execution_count": 28,
   "metadata": {},
   "outputs": [
    {
     "data": {
      "text/plain": [
       "(array([0]), array([3]))"
      ]
     },
     "execution_count": 28,
     "metadata": {},
     "output_type": "execute_result"
    }
   ],
   "source": [
    "class ReferenceOffsetSampler:\n",
    "\n",
    "    def __init__(self, n: int, alpha: float) -> None:\n",
    "        self.n = n\n",
    "        self.alpha = alpha\n",
    "        proba_mtx = np.zeros((n*2+1, n*2+1))\n",
    "        for i in range(n*2+1):\n",
    "            for j in range(n*2+1):\n",
    "                dist = manhattan(n, n, i, j)\n",
    "                proba_mtx[i, j] = lr_proba(dist, alpha)\n",
    "        # unnormalized probabilities\n",
    "        self.uprob = proba_mtx\n",
    "\n",
    "    def _proba_view(self, gx: int, gy: int) -> np.ndarray:\n",
    "        assert 0 <= gx < self.n\n",
    "        assert 0 <= gy < self.n\n",
    "        sx = self.n - gx\n",
    "        sy = self.n - gy\n",
    "        return self.uprob[sx:sx+self.n, sy:sy+self.n].copy()\n",
    "    \n",
    "    def sample(self, gx: int, gy: int, num_samples: int = 1):\n",
    "        proba = self._proba_view(gx, gy)\n",
    "        proba /= proba.sum()\n",
    "        indices = np.random.choice(np.arange(self.n*self.n), p=proba.flatten(), size=num_samples)\n",
    "        x, y = np.unravel_index(indices, (self.n, self.n))\n",
    "        return x, y\n",
    "    \n",
    "\n",
    "class UnconstrainedOffsetSampler:\n",
    "    def __init__(self, n: int, alpha: float) -> None:\n",
    "        self.n = n\n",
    "        self.alpha = alpha\n",
    "        self.distance_sampler = AliasDistanceSampler(n, alpha)\n",
    "        self.dist2offset = FastDistanceIndex2Offset(n)\n",
    "\n",
    "    def _sample_offset_for_distance(self, distance: int):\n",
    "        n = num_of_distance(self.n*2+1, distance)\n",
    "        index = np.random.randint(n)\n",
    "        return self.dist2offset.sample(distance, index)\n",
    "\n",
    "    def sample(self, num_samples: int = 1):\n",
    "        distances = self.distance_sampler.sample(num_samples)\n",
    "        return self._sample_offset_for_distance(distances)\n",
    "\n",
    "class RejectionOffsetSampler:\n",
    "\n",
    "    def __init__(self, n: int, alpha: float) -> None:\n",
    "        self.n = n\n",
    "        self.alpha = alpha\n",
    "        self.distance_sampler = AliasDistanceSampler(n, alpha)\n",
    "        self.dist2offset = FastDistanceIndex2Offset(n)\n",
    "\n",
    "    def _sample_offset_for_distance(self, distance: int):\n",
    "        n = num_of_distance(self.n*2+1, distance)\n",
    "        index = np.random.randint(n)\n",
    "        return self.dist2offset.sample(distance, index)\n",
    "\n",
    "    def sample(self, gx: int, gy: int, num_samples: int = 1):\n",
    "        samples = []\n",
    "        while len(samples) < num_samples:\n",
    "            distance = self.distance_sampler.sample(num_samples)\n",
    "            for d in distance:\n",
    "                x, y = self._sample_offset_for_distance(d)\n",
    "                x += gx\n",
    "                y += gy\n",
    "                if 0 <= x < self.n and 0 <= y < self.n:\n",
    "                    samples.append((x, y))\n",
    "        x,y = zip(*samples)\n",
    "        return np.array(x), np.array(y)\n",
    "    \n",
    "q = UnconstrainedOffsetSampler(11, 1)\n",
    "\n",
    "q.sample(1)"
   ]
  },
  {
   "cell_type": "markdown",
   "metadata": {},
   "source": [
    "# Putting everything together"
   ]
  },
  {
   "cell_type": "code",
   "execution_count": 44,
   "metadata": {},
   "outputs": [
    {
     "name": "stderr",
     "output_type": "stream",
     "text": [
      " 14%|█▍        | 140/1000 [00:04<00:29, 29.48it/s]\n"
     ]
    },
    {
     "ename": "KeyboardInterrupt",
     "evalue": "",
     "output_type": "error",
     "traceback": [
      "\u001b[0;31m---------------------------------------------------------------------------\u001b[0m",
      "\u001b[0;31mKeyboardInterrupt\u001b[0m                         Traceback (most recent call last)",
      "Cell \u001b[0;32mIn[44], line 92\u001b[0m\n\u001b[1;32m     90\u001b[0m \u001b[38;5;28;01mfor\u001b[39;00m _ \u001b[38;5;129;01min\u001b[39;00m tqdm(\u001b[38;5;28mrange\u001b[39m(\u001b[38;5;241m1000\u001b[39m), total\u001b[38;5;241m=\u001b[39m\u001b[38;5;241m1000\u001b[39m):\n\u001b[1;32m     91\u001b[0m     cx, cy, tx, ty \u001b[38;5;241m=\u001b[39m np\u001b[38;5;241m.\u001b[39mrandom\u001b[38;5;241m.\u001b[39mrandint(N, size\u001b[38;5;241m=\u001b[39m\u001b[38;5;241m4\u001b[39m)\n\u001b[0;32m---> 92\u001b[0m     distances[alpha]\u001b[38;5;241m.\u001b[39mappend(\u001b[38;5;28mlen\u001b[39m(\u001b[43mnav\u001b[49m\u001b[38;5;241;43m.\u001b[39;49m\u001b[43mnavigate\u001b[49m\u001b[43m(\u001b[49m\u001b[43mcx\u001b[49m\u001b[43m,\u001b[49m\u001b[43m \u001b[49m\u001b[43mcy\u001b[49m\u001b[43m,\u001b[49m\u001b[43m \u001b[49m\u001b[43mtx\u001b[49m\u001b[43m,\u001b[49m\u001b[43m \u001b[49m\u001b[43mty\u001b[49m\u001b[43m)\u001b[49m))\n",
      "Cell \u001b[0;32mIn[44], line 32\u001b[0m, in \u001b[0;36mNavigator.navigate\u001b[0;34m(self, cx, cy, tx, ty)\u001b[0m\n\u001b[1;32m     30\u001b[0m path \u001b[38;5;241m=\u001b[39m []\n\u001b[1;32m     31\u001b[0m \u001b[38;5;28;01mwhile\u001b[39;00m cx \u001b[38;5;241m!=\u001b[39m tx \u001b[38;5;129;01mor\u001b[39;00m cy \u001b[38;5;241m!=\u001b[39m ty:\n\u001b[0;32m---> 32\u001b[0m     cx, cy \u001b[38;5;241m=\u001b[39m \u001b[38;5;28;43mself\u001b[39;49m\u001b[38;5;241;43m.\u001b[39;49m\u001b[43m_step\u001b[49m\u001b[43m(\u001b[49m\u001b[43mcx\u001b[49m\u001b[43m,\u001b[49m\u001b[43m \u001b[49m\u001b[43mcy\u001b[49m\u001b[43m,\u001b[49m\u001b[43m \u001b[49m\u001b[43mtx\u001b[49m\u001b[43m,\u001b[49m\u001b[43m \u001b[49m\u001b[43mty\u001b[49m\u001b[43m)\u001b[49m\n\u001b[1;32m     33\u001b[0m     path\u001b[38;5;241m.\u001b[39mappend((cx, cy))\n\u001b[1;32m     34\u001b[0m \u001b[38;5;28;01mreturn\u001b[39;00m path\n",
      "Cell \u001b[0;32mIn[44], line 8\u001b[0m, in \u001b[0;36mNavigator._step\u001b[0;34m(self, cx, cy, tx, ty)\u001b[0m\n\u001b[1;32m      7\u001b[0m \u001b[38;5;28;01mdef\u001b[39;00m \u001b[38;5;21m_step\u001b[39m(\u001b[38;5;28mself\u001b[39m, cx: \u001b[38;5;28mint\u001b[39m, cy: \u001b[38;5;28mint\u001b[39m, tx: \u001b[38;5;28mint\u001b[39m, ty: \u001b[38;5;28mint\u001b[39m):\n\u001b[0;32m----> 8\u001b[0m     lx, ly \u001b[38;5;241m=\u001b[39m \u001b[38;5;28;43mself\u001b[39;49m\u001b[38;5;241;43m.\u001b[39;49m\u001b[43mos\u001b[49m\u001b[38;5;241;43m.\u001b[39;49m\u001b[43msample\u001b[49m\u001b[43m(\u001b[49m\u001b[43mcx\u001b[49m\u001b[43m,\u001b[49m\u001b[43m \u001b[49m\u001b[43mcy\u001b[49m\u001b[43m)\u001b[49m\n\u001b[1;32m      9\u001b[0m     lx, ly \u001b[38;5;241m=\u001b[39m lx[\u001b[38;5;241m0\u001b[39m], ly[\u001b[38;5;241m0\u001b[39m]\n\u001b[1;32m     10\u001b[0m     long_range_distance \u001b[38;5;241m=\u001b[39m manhattan(lx, ly, tx, ty)\n",
      "Cell \u001b[0;32mIn[28], line 63\u001b[0m, in \u001b[0;36mRejectionOffsetSampler.sample\u001b[0;34m(self, gx, gy, num_samples)\u001b[0m\n\u001b[1;32m     61\u001b[0m distance \u001b[38;5;241m=\u001b[39m \u001b[38;5;28mself\u001b[39m\u001b[38;5;241m.\u001b[39mdistance_sampler\u001b[38;5;241m.\u001b[39msample(num_samples)\n\u001b[1;32m     62\u001b[0m \u001b[38;5;28;01mfor\u001b[39;00m d \u001b[38;5;129;01min\u001b[39;00m distance:\n\u001b[0;32m---> 63\u001b[0m     x, y \u001b[38;5;241m=\u001b[39m \u001b[38;5;28;43mself\u001b[39;49m\u001b[38;5;241;43m.\u001b[39;49m\u001b[43m_sample_offset_for_distance\u001b[49m\u001b[43m(\u001b[49m\u001b[43md\u001b[49m\u001b[43m)\u001b[49m\n\u001b[1;32m     64\u001b[0m     x \u001b[38;5;241m+\u001b[39m\u001b[38;5;241m=\u001b[39m gx\n\u001b[1;32m     65\u001b[0m     y \u001b[38;5;241m+\u001b[39m\u001b[38;5;241m=\u001b[39m gy\n",
      "Cell \u001b[0;32mIn[28], line 56\u001b[0m, in \u001b[0;36mRejectionOffsetSampler._sample_offset_for_distance\u001b[0;34m(self, distance)\u001b[0m\n\u001b[1;32m     54\u001b[0m n \u001b[38;5;241m=\u001b[39m num_of_distance(\u001b[38;5;28mself\u001b[39m\u001b[38;5;241m.\u001b[39mn\u001b[38;5;241m*\u001b[39m\u001b[38;5;241m2\u001b[39m\u001b[38;5;241m+\u001b[39m\u001b[38;5;241m1\u001b[39m, distance)\n\u001b[1;32m     55\u001b[0m index \u001b[38;5;241m=\u001b[39m np\u001b[38;5;241m.\u001b[39mrandom\u001b[38;5;241m.\u001b[39mrandint(n)\n\u001b[0;32m---> 56\u001b[0m \u001b[38;5;28;01mreturn\u001b[39;00m \u001b[38;5;28;43mself\u001b[39;49m\u001b[38;5;241;43m.\u001b[39;49m\u001b[43mdist2offset\u001b[49m\u001b[38;5;241;43m.\u001b[39;49m\u001b[43msample\u001b[49m\u001b[43m(\u001b[49m\u001b[43mdistance\u001b[49m\u001b[43m,\u001b[49m\u001b[43m \u001b[49m\u001b[43mindex\u001b[49m\u001b[43m)\u001b[49m\n",
      "Cell \u001b[0;32mIn[5], line 25\u001b[0m, in \u001b[0;36mFastDistanceIndex2Offset.sample\u001b[0;34m(self, distance, index)\u001b[0m\n\u001b[1;32m     23\u001b[0m \u001b[38;5;28;01mdef\u001b[39;00m \u001b[38;5;21msample\u001b[39m(\u001b[38;5;28mself\u001b[39m, distance: \u001b[38;5;28mint\u001b[39m, index: \u001b[38;5;28mint\u001b[39m):\n\u001b[1;32m     24\u001b[0m     \u001b[38;5;66;03m# TODO: support arrays\u001b[39;00m\n\u001b[0;32m---> 25\u001b[0m     n \u001b[38;5;241m=\u001b[39m \u001b[43mnum_of_distance\u001b[49m\u001b[43m(\u001b[49m\u001b[38;5;28;43mself\u001b[39;49m\u001b[38;5;241;43m.\u001b[39;49m\u001b[43mn\u001b[49m\u001b[38;5;241;43m*\u001b[39;49m\u001b[38;5;241;43m2\u001b[39;49m\u001b[38;5;241;43m+\u001b[39;49m\u001b[38;5;241;43m1\u001b[39;49m\u001b[43m,\u001b[49m\u001b[43m \u001b[49m\u001b[43mdistance\u001b[49m\u001b[43m)\u001b[49m\n\u001b[1;32m     26\u001b[0m     \u001b[38;5;28;01massert\u001b[39;00m index \u001b[38;5;241m<\u001b[39m n, \u001b[38;5;124mf\u001b[39m\u001b[38;5;124m'\u001b[39m\u001b[38;5;124mIndex \u001b[39m\u001b[38;5;132;01m{\u001b[39;00mindex\u001b[38;5;132;01m}\u001b[39;00m\u001b[38;5;124m is out of bounds for distance \u001b[39m\u001b[38;5;132;01m{\u001b[39;00mdistance\u001b[38;5;132;01m}\u001b[39;00m\u001b[38;5;124m'\u001b[39m\n\u001b[1;32m     27\u001b[0m     fields_per_side \u001b[38;5;241m=\u001b[39m n \u001b[38;5;241m/\u001b[39m\u001b[38;5;241m/\u001b[39m \u001b[38;5;241m4\u001b[39m\n",
      "Cell \u001b[0;32mIn[4], line 11\u001b[0m, in \u001b[0;36mnum_of_distance\u001b[0;34m(n, i)\u001b[0m\n\u001b[1;32m      9\u001b[0m     \u001b[38;5;28;01mreturn\u001b[39;00m \u001b[38;5;241m4\u001b[39m \u001b[38;5;241m*\u001b[39m i\n\u001b[1;32m     10\u001b[0m z \u001b[38;5;241m=\u001b[39m \u001b[38;5;241m2\u001b[39m\u001b[38;5;241m*\u001b[39mdiameter \u001b[38;5;241m-\u001b[39m i\u001b[38;5;241m+\u001b[39m\u001b[38;5;241m1\u001b[39m\n\u001b[0;32m---> 11\u001b[0m \u001b[38;5;28;01mreturn\u001b[39;00m \u001b[38;5;241;43m4\u001b[39;49m\u001b[43m \u001b[49m\u001b[38;5;241;43m*\u001b[39;49m\u001b[43m \u001b[49m\u001b[43mz\u001b[49m\n",
      "\u001b[0;31mKeyboardInterrupt\u001b[0m: "
     ]
    }
   ],
   "source": [
    "from tqdm import tqdm\n",
    "class Navigator:\n",
    "\n",
    "    def __init__(self, offset_sampler: ReferenceOffsetSampler) -> None:\n",
    "        self.os = offset_sampler\n",
    "\n",
    "    def _step(self, cx: int, cy: int, tx: int, ty: int):\n",
    "        lx, ly = self.os.sample(cx, cy)\n",
    "        lx, ly = lx[0], ly[0]\n",
    "        long_range_distance = manhattan(lx, ly, tx, ty)\n",
    "        short_range_distance = manhattan(cx, cy, tx, ty) - 1\n",
    "        if long_range_distance < short_range_distance:\n",
    "            return lx, ly\n",
    "        else:\n",
    "            if cx < tx:\n",
    "                return cx + 1, cy\n",
    "            elif cx > tx:\n",
    "                return cx - 1, cy\n",
    "            elif cy < ty:\n",
    "                return cx, cy + 1\n",
    "            else:\n",
    "                return cx, cy - 1\n",
    "\n",
    "    def navigate(self, cx: int, cy: int, tx: int, ty: int):\n",
    "        assert 0 <= cx < self.os.n\n",
    "        assert 0 <= cy < self.os.n\n",
    "        assert 0 <= tx < self.os.n\n",
    "        assert 0 <= ty < self.os.n\n",
    "\n",
    "        path = []\n",
    "        while cx != tx or cy != ty:\n",
    "            cx, cy = self._step(cx, cy, tx, ty)\n",
    "            path.append((cx, cy))\n",
    "        return path\n",
    "    \n",
    "\n",
    "class ToroidNavigator:\n",
    "\n",
    "    def __init__(self, n: int, offset_sampler: ReferenceOffsetSampler) -> None:\n",
    "        self.n = n\n",
    "        self.os = offset_sampler\n",
    "\n",
    "    def _step(self, tx: int, ty: int):\n",
    "        lx, ly = self.os.sample()\n",
    "        lx, ly = lx[0], ly[0]\n",
    "        long_range_distance = manhattan(lx, ly, tx, ty)\n",
    "        current_distance = manhattan(cx, cy, tx, ty) - 1\n",
    "        if long_range_distance < current_distance:\n",
    "            return tx - lx, ty - ly\n",
    "        else:\n",
    "            if 0 < tx:\n",
    "                return tx-1, ty\n",
    "            elif tx < 0:\n",
    "                return tx + 1, ty\n",
    "            elif 0 < ty:\n",
    "                return tx, ty - 1\n",
    "            else:\n",
    "                return tx, ty + 1\n",
    "            \n",
    "    def navigate(self, cx: int, cy: int, tx: int, ty: int):\n",
    "        assert 0 <= cx < self.n\n",
    "        assert 0 <= cy < self.n\n",
    "        assert 0 <= tx < self.n\n",
    "        assert 0 <= ty < self.n\n",
    "\n",
    "        tx = tx - cx\n",
    "        ty = ty - cy\n",
    "\n",
    "        path = []\n",
    "        while 0 != tx and 0 != ty:\n",
    "            tx, ty = self._step(tx, ty)\n",
    "            tx, ty = abs(tx), abs(ty)\n",
    "            path.append((tx, ty))\n",
    "        return path\n",
    "    \n",
    "\n",
    "\n",
    "N = 20_000\n",
    "\n",
    "\n",
    "distances = {}\n",
    "\n",
    "for alpha in np.linspace(0, 2.5, 26):\n",
    "    os = RejectionOffsetSampler(N, alpha)\n",
    "    nav = Navigator(os)\n",
    "    #os = UnconstrainedOffsetSampler(N, alpha)\n",
    "    #nav = ToroidNavigator(N, os)\n",
    "\n",
    "    distances[alpha] = []\n",
    "    for _ in tqdm(range(1000), total=1000):\n",
    "        cx, cy, tx, ty = np.random.randint(N, size=4)\n",
    "        distances[alpha].append(len(nav.navigate(cx, cy, tx, ty)))"
   ]
  },
  {
   "cell_type": "code",
   "execution_count": 42,
   "metadata": {},
   "outputs": [
    {
     "data": {
      "text/plain": [
       "[<matplotlib.lines.Line2D at 0x7bf9edc3eb20>]"
      ]
     },
     "execution_count": 42,
     "metadata": {},
     "output_type": "execute_result"
    },
    {
     "data": {
      "image/png": "[encoded data removed]",
      "text/plain": [
       "<Figure size 640x480 with 1 Axes>"
      ]
     },
     "metadata": {},
     "output_type": "display_data"
    }
   ],
   "source": [
    "import matplotlib.pyplot as plt\n",
    "\n",
    "plt.plot(distances.keys(), [np.log(np.mean(distances[alpha])) for alpha in distances.keys()])"
   ]
  },
  {
   "cell_type": "markdown",
   "metadata": {},
   "source": [
    "# Alias sampling"
   ]
  },
  {
   "cell_type": "code",
   "execution_count": 94,
   "metadata": {},
   "outputs": [],
   "source": [
    "from scipy.stats.sampling import DiscreteAliasUrn"
   ]
  },
  {
   "cell_type": "code",
   "execution_count": 111,
   "metadata": {},
   "outputs": [
    {
     "data": {
      "text/plain": [
       "[<matplotlib.lines.Line2D at 0x7b26106fbaf0>]"
      ]
     },
     "execution_count": 111,
     "metadata": {},
     "output_type": "execute_result"
    },
    {
     "data": {
      "image/png": "[encoded data removed]",
      "text/plain": [
       "<Figure size 640x480 with 1 Axes>"
      ]
     },
     "metadata": {},
     "output_type": "display_data"
    }
   ],
   "source": [
    "\n",
    "d_ = MultinomialDistanceSampler(50, 1)\n",
    "d = DiscreteAliasUrn(d_.probas)\n",
    "samples = d.rvs(1000000)\n",
    "vals = np.arange(1, 101)\n",
    "plt.hist(samples, bins=len(d_.values)-1, density=True, alpha=.78)\n",
    "plt.plot(d_.values, d_.probas)"
   ]
  },
  {
   "cell_type": "code",
   "execution_count": 112,
   "metadata": {},
   "outputs": [
    {
     "name": "stdout",
     "output_type": "stream",
     "text": [
      "11.6 µs ± 50.9 ns per loop (mean ± std. dev. of 7 runs, 100,000 loops each)\n"
     ]
    }
   ],
   "source": [
    "%%timeit\n",
    "d_.sample()"
   ]
  },
  {
   "cell_type": "code",
   "execution_count": 113,
   "metadata": {},
   "outputs": [
    {
     "name": "stdout",
     "output_type": "stream",
     "text": [
      "4.31 µs ± 59.2 ns per loop (mean ± std. dev. of 7 runs, 100,000 loops each)\n"
     ]
    }
   ],
   "source": [
    "%%timeit\n",
    "d.rvs(1)"
   ]
  },
  {
   "cell_type": "code",
   "execution_count": 114,
   "metadata": {},
   "outputs": [],
   "source": [
    "d_ = MultinomialDistanceSampler(50_000, 1)"
   ]
  },
  {
   "cell_type": "code",
   "execution_count": 116,
   "metadata": {},
   "outputs": [
    {
     "name": "stdout",
     "output_type": "stream",
     "text": [
      "590 µs ± 1.32 µs per loop (mean ± std. dev. of 7 runs, 1,000 loops each)\n"
     ]
    }
   ],
   "source": [
    "%%timeit\n",
    "d = DiscreteAliasUrn(d_.probas)"
   ]
  }
 ],
 "metadata": {
  "kernelspec": {
   "display_name": "base",
   "language": "python",
   "name": "python3"
  },
  "language_info": {
   "codemirror_mode": {
    "name": "ipython",
    "version": 3
   },
   "file_extension": ".py",
   "mimetype": "text/x-python",
   "name": "python",
   "nbconvert_exporter": "python",
   "pygments_lexer": "ipython3",
   "version": "3.8.18"
  }
 },
 "nbformat": 4,
 "nbformat_minor": 2
}
