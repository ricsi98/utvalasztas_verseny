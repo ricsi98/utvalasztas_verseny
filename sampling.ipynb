{
 "cells": [
  {
   "cell_type": "code",
   "execution_count": 1,
   "metadata": {},
   "outputs": [],
   "source": [
    "import numpy as np\n",
    "import matplotlib.pyplot as plt"
   ]
  },
  {
   "cell_type": "code",
   "execution_count": 20,
   "metadata": {},
   "outputs": [],
   "source": [
    "def manhattan(x1: int, y1: int, x2: int, y2: int) -> int:\n",
    "    return abs(x1 - x2) + abs(y1 - y2)\n",
    "\n",
    "def lr_proba(dist, alpha):\n",
    "    if not isinstance(dist, np.ndarray):\n",
    "        dist = np.array(dist, dtype=float)\n",
    "    \n",
    "    zero_mask = dist <= 1\n",
    "    result = np.zeros_like(dist)\n",
    "    result[~zero_mask] = dist[~zero_mask] ** -alpha\n",
    "    return result"
   ]
  },
  {
   "cell_type": "markdown",
   "metadata": {},
   "source": [
    "# Sampling offset distance"
   ]
  },
  {
   "cell_type": "code",
   "execution_count": 77,
   "metadata": {},
   "outputs": [
    {
     "data": {
      "text/plain": [
       "Text(0, 0.5, 'Probability')"
      ]
     },
     "execution_count": 77,
     "metadata": {},
     "output_type": "execute_result"
    },
    {
     "data": {
      "image/png": "[encoded data removed]",
      "text/plain": [
       "<Figure size 640x480 with 1 Axes>"
      ]
     },
     "metadata": {},
     "output_type": "display_data"
    }
   ],
   "source": [
    "def num_of_distance(n,i):\n",
    "    assert n % 2 == 1\n",
    "    diameter = (n-1) // 2\n",
    "    if i == 0:\n",
    "        return 1\n",
    "    if i <= diameter:\n",
    "        return 4 * i\n",
    "    z = 2*diameter - i+1\n",
    "    return 4 * z\n",
    "\n",
    "\n",
    "class ReferenceDistanceSampler:\n",
    "    def __init__(self, n: int, alpha: float):\n",
    "        self.n = n\n",
    "        self.alpha = alpha\n",
    "        proba_mtx = np.zeros((n*2+1, n*2+1))\n",
    "        for i in range(n*2+1):\n",
    "            for j in range(n*2+1):\n",
    "                dist = manhattan(n, n, i, j)\n",
    "                proba_mtx[i, j] = lr_proba(dist, alpha)\n",
    "        proba_mtx /= proba_mtx.sum()\n",
    "        self.probas = proba_mtx.flatten()\n",
    "        self.index = np.arange(len(self.probas))\n",
    "\n",
    "    def sample(self, num_samples: int = 1):\n",
    "        indices = np.random.choice(self.index, p=self.probas, size=num_samples)\n",
    "        x, y = np.unravel_index(indices, (self.n*2+1, self.n*2+1))\n",
    "        x -= self.n\n",
    "        y -= self.n\n",
    "        return np.abs(x) + np.abs(y)\n",
    "    \n",
    "\n",
    "class MultinomialDistanceSampler:\n",
    "    def __init__(self, n: int, alpha: float) -> None:\n",
    "        self.n = n\n",
    "        self.alpha = alpha\n",
    "        self.max_dist = n*2+1\n",
    "        self.values = np.arange(2, self.max_dist+1)\n",
    "        self.probas = lr_proba(self.values.astype(float), alpha)\n",
    "        for i in range(2, self.max_dist+1):\n",
    "            self.probas[i-2] *= num_of_distance(n*2+1, i)\n",
    "        self.probas /= self.probas.sum()\n",
    "\n",
    "    def sample(self, num_samples: int = 1):\n",
    "        return np.random.choice(self.values, p=self.probas, size=num_samples)\n",
    "\n",
    "\n",
    "\n",
    "m = MultinomialDistanceSampler(10,1)\n",
    "s = ReferenceDistanceSampler(10, 1)\n",
    "samples = s.sample(100000)\n",
    "samples2 = m.sample(100000)\n",
    "plt.hist(samples, bins=len(set(samples)), density=True, alpha=.78)\n",
    "plt.hist(samples2, bins=len(set(samples2)), density=True, alpha=.78)\n",
    "plt.plot(m.values, m.probas, 'r')\n",
    "plt.xlabel('Distance')\n",
    "plt.ylabel('Probability')"
   ]
  },
  {
   "cell_type": "code",
   "execution_count": 219,
   "metadata": {},
   "outputs": [
    {
     "ename": "AssertionError",
     "evalue": "8, 8\n[(-2, -1), (-1, -2), (0, -3), (1, -2), (1, 2), (2, -1), (2, 1), (3, 0)] != [(-3, 0), (-2, -1), (-2, 1), (-1, -2), (-1, 2), (0, -3), (0, 3), (1, -2)]",
     "output_type": "error",
     "traceback": [
      "\u001b[0;31m---------------------------------------------------------------------------\u001b[0m",
      "\u001b[0;31mAssertionError\u001b[0m                            Traceback (most recent call last)",
      "Cell \u001b[0;32mIn[219], line 52\u001b[0m\n\u001b[1;32m     48\u001b[0m indices \u001b[38;5;241m=\u001b[39m [q\u001b[38;5;241m.\u001b[39msample(k, i) \u001b[38;5;28;01mfor\u001b[39;00m i \u001b[38;5;129;01min\u001b[39;00m \u001b[38;5;28mrange\u001b[39m(num_of_distance(n, k))]\n\u001b[1;32m     49\u001b[0m indices2 \u001b[38;5;241m=\u001b[39m [qref\u001b[38;5;241m.\u001b[39msample(k, i) \u001b[38;5;28;01mfor\u001b[39;00m i \u001b[38;5;129;01min\u001b[39;00m \u001b[38;5;28mrange\u001b[39m(num_of_distance(n, k))]\n\u001b[0;32m---> 52\u001b[0m \u001b[38;5;28;01massert\u001b[39;00m \u001b[38;5;28mset\u001b[39m(indices) \u001b[38;5;241m==\u001b[39m \u001b[38;5;28mset\u001b[39m(indices2), \u001b[38;5;124mf\u001b[39m\u001b[38;5;124m'\u001b[39m\u001b[38;5;132;01m{\u001b[39;00m\u001b[38;5;28mlen\u001b[39m(indices)\u001b[38;5;132;01m}\u001b[39;00m\u001b[38;5;124m, \u001b[39m\u001b[38;5;132;01m{\u001b[39;00m\u001b[38;5;28mlen\u001b[39m(indices2)\u001b[38;5;132;01m}\u001b[39;00m\u001b[38;5;130;01m\\n\u001b[39;00m\u001b[38;5;132;01m{\u001b[39;00m\u001b[38;5;28msorted\u001b[39m(indices)\u001b[38;5;132;01m}\u001b[39;00m\u001b[38;5;124m != \u001b[39m\u001b[38;5;132;01m{\u001b[39;00m\u001b[38;5;28msorted\u001b[39m(indices2)\u001b[38;5;132;01m}\u001b[39;00m\u001b[38;5;124m'\u001b[39m\n",
      "\u001b[0;31mAssertionError\u001b[0m: 8, 8\n[(-2, -1), (-1, -2), (0, -3), (1, -2), (1, 2), (2, -1), (2, 1), (3, 0)] != [(-3, 0), (-2, -1), (-2, 1), (-1, -2), (-1, 2), (0, -3), (0, 3), (1, -2)]"
     ]
    }
   ],
   "source": [
    "class ReferenceDistanceIndex2Offset:\n",
    "\n",
    "    def __init__(self, n: int) -> None:\n",
    "        self.n = n\n",
    "        self.distances = np.zeros((n*2+1, n*2+1))\n",
    "        for i in range(n*2+1):\n",
    "            for j in range(n*2+1):\n",
    "                dist = manhattan(n, n, i, j)\n",
    "                self.distances[i, j] = dist\n",
    "\n",
    "    def sample(self, distance: int, index: int):\n",
    "        x,y = (self.distances == distance).nonzero()\n",
    "        x -= self.n\n",
    "        y -= self.n\n",
    "        return x[index], y[index]\n",
    "    \n",
    "\n",
    "class FastDistanceIndex2Offset:\n",
    "\n",
    "    def __init__(self, n: int) -> None:\n",
    "        self.n = n\n",
    "\n",
    "    def sample(self, distance: int, index: int):\n",
    "        n = num_of_distance(self.n*2+1, distance)\n",
    "        assert index < n, f'Index {index} is out of bounds for distance {distance}'\n",
    "        fields_per_side = n // 4\n",
    "        field_idx = index // fields_per_side\n",
    "        remainder = index % fields_per_side\n",
    "        \n",
    "        min_x = max(1, distance - self.n)\n",
    "        dx = min_x + remainder\n",
    "        dy = distance - dx\n",
    "        if field_idx == 0:\n",
    "            return dx, dy\n",
    "        elif field_idx == 1:\n",
    "            return dy, -dx\n",
    "        elif field_idx == 2:\n",
    "            return -dx, -dy\n",
    "        else:\n",
    "            return -dy, dx\n",
    "\n",
    "\n",
    "\n",
    "k = 3\n",
    "n = 5\n",
    "q = FastDistanceIndex2Offset(n)\n",
    "qref = ReferenceDistanceIndex2Offset(n)\n",
    "indices = [q.sample(k, i) for i in range(num_of_distance(n, k))]\n",
    "indices2 = [qref.sample(k, i) for i in range(num_of_distance(n, k))]\n",
    "\n",
    "\n",
    "assert set(indices) == set(indices2), f'{len(indices)}, {len(indices2)}\\n{sorted(indices)} != {sorted(indices2)}'"
   ]
  },
  {
   "cell_type": "markdown",
   "metadata": {},
   "source": [
    "# Sampling offset"
   ]
  },
  {
   "cell_type": "code",
   "execution_count": 150,
   "metadata": {},
   "outputs": [
    {
     "data": {
      "text/plain": [
       "(array([9, 9, 6, 9, 2]), array([ 3,  1, 10,  3, 10]))"
      ]
     },
     "execution_count": 150,
     "metadata": {},
     "output_type": "execute_result"
    }
   ],
   "source": [
    "class ReferenceOffsetSampler:\n",
    "\n",
    "    def __init__(self, n: int, alpha: float) -> None:\n",
    "        self.n = n\n",
    "        self.alpha = alpha\n",
    "        proba_mtx = np.zeros((n*2+1, n*2+1))\n",
    "        for i in range(n*2+1):\n",
    "            for j in range(n*2+1):\n",
    "                dist = manhattan(n, n, i, j)\n",
    "                proba_mtx[i, j] = lr_proba(dist, alpha)\n",
    "        # unnormalized probabilities\n",
    "        self.uprob = proba_mtx\n",
    "\n",
    "    def _proba_view(self, gx: int, gy: int) -> np.ndarray:\n",
    "        assert 0 <= gx < self.n\n",
    "        assert 0 <= gy < self.n\n",
    "        sx = self.n - gx\n",
    "        sy = self.n - gy\n",
    "        return self.uprob[sx:sx+self.n, sy:sy+self.n].copy()\n",
    "    \n",
    "    def sample(self, gx: int, gy: int, num_samples: int = 1):\n",
    "        proba = self._proba_view(gx, gy)\n",
    "        proba /= proba.sum()\n",
    "        indices = np.random.choice(np.arange(self.n*self.n), p=proba.flatten(), size=num_samples)\n",
    "        x, y = np.unravel_index(indices, (self.n, self.n))\n",
    "        return x, y\n",
    "    \n",
    "\n",
    "class RejectionOffsetSampler:\n",
    "\n",
    "    def __init__(self, n: int, alpha: float) -> None:\n",
    "        self.n = n\n",
    "        self.alpha = alpha\n",
    "        self.distance_sampler = MultinomialDistanceSampler(n, alpha)\n",
    "        self.dist2offset = ReferenceOffsetByDistance(n)\n",
    "\n",
    "    def sample(self, gx: int, gy: int, num_samples: int = 1):\n",
    "        samples = []\n",
    "        while len(samples) < num_samples:\n",
    "            distance = self.distance_sampler.sample(num_samples)\n",
    "            for d in distance:\n",
    "                x, y = self.dist2offset.sample(d)\n",
    "                x += gx\n",
    "                y += gy\n",
    "                if 0 <= x < self.n and 0 <= y < self.n:\n",
    "                    samples.append((x, y))\n",
    "        x,y = zip(*samples)\n",
    "        return np.array(x), np.array(y)\n",
    "    \n",
    "q = RejectionOffsetSampler(11, 1)\n",
    "\n",
    "q.sample(0,0, 5)"
   ]
  },
  {
   "cell_type": "code",
   "execution_count": 154,
   "metadata": {},
   "outputs": [
    {
     "ename": "MemoryError",
     "evalue": "Unable to allocate 74.5 GiB for an array with shape (100001, 100001) and data type float64",
     "output_type": "error",
     "traceback": [
      "\u001b[0;31m---------------------------------------------------------------------------\u001b[0m",
      "\u001b[0;31mMemoryError\u001b[0m                               Traceback (most recent call last)",
      "Cell \u001b[0;32mIn[154], line 3\u001b[0m\n\u001b[1;32m      1\u001b[0m N \u001b[38;5;241m=\u001b[39m \u001b[38;5;241m50000\u001b[39m\n\u001b[0;32m----> 3\u001b[0m s2 \u001b[38;5;241m=\u001b[39m \u001b[43mReferenceOffsetSampler\u001b[49m\u001b[43m(\u001b[49m\u001b[43mN\u001b[49m\u001b[43m,\u001b[49m\u001b[43m \u001b[49m\u001b[38;5;241;43m1\u001b[39;49m\u001b[43m)\u001b[49m\n\u001b[1;32m      5\u001b[0m canvas \u001b[38;5;241m=\u001b[39m np\u001b[38;5;241m.\u001b[39mzeros((N, N))\n\u001b[1;32m      6\u001b[0m x,y \u001b[38;5;241m=\u001b[39m s2\u001b[38;5;241m.\u001b[39msample(\u001b[38;5;241m3\u001b[39m, \u001b[38;5;241m9\u001b[39m, \u001b[38;5;241m100000\u001b[39m)\n",
      "Cell \u001b[0;32mIn[150], line 6\u001b[0m, in \u001b[0;36mReferenceOffsetSampler.__init__\u001b[0;34m(self, n, alpha)\u001b[0m\n\u001b[1;32m      4\u001b[0m \u001b[38;5;28mself\u001b[39m\u001b[38;5;241m.\u001b[39mn \u001b[38;5;241m=\u001b[39m n\n\u001b[1;32m      5\u001b[0m \u001b[38;5;28mself\u001b[39m\u001b[38;5;241m.\u001b[39malpha \u001b[38;5;241m=\u001b[39m alpha\n\u001b[0;32m----> 6\u001b[0m proba_mtx \u001b[38;5;241m=\u001b[39m \u001b[43mnp\u001b[49m\u001b[38;5;241;43m.\u001b[39;49m\u001b[43mzeros\u001b[49m\u001b[43m(\u001b[49m\u001b[43m(\u001b[49m\u001b[43mn\u001b[49m\u001b[38;5;241;43m*\u001b[39;49m\u001b[38;5;241;43m2\u001b[39;49m\u001b[38;5;241;43m+\u001b[39;49m\u001b[38;5;241;43m1\u001b[39;49m\u001b[43m,\u001b[49m\u001b[43m \u001b[49m\u001b[43mn\u001b[49m\u001b[38;5;241;43m*\u001b[39;49m\u001b[38;5;241;43m2\u001b[39;49m\u001b[38;5;241;43m+\u001b[39;49m\u001b[38;5;241;43m1\u001b[39;49m\u001b[43m)\u001b[49m\u001b[43m)\u001b[49m\n\u001b[1;32m      7\u001b[0m \u001b[38;5;28;01mfor\u001b[39;00m i \u001b[38;5;129;01min\u001b[39;00m \u001b[38;5;28mrange\u001b[39m(n\u001b[38;5;241m*\u001b[39m\u001b[38;5;241m2\u001b[39m\u001b[38;5;241m+\u001b[39m\u001b[38;5;241m1\u001b[39m):\n\u001b[1;32m      8\u001b[0m     \u001b[38;5;28;01mfor\u001b[39;00m j \u001b[38;5;129;01min\u001b[39;00m \u001b[38;5;28mrange\u001b[39m(n\u001b[38;5;241m*\u001b[39m\u001b[38;5;241m2\u001b[39m\u001b[38;5;241m+\u001b[39m\u001b[38;5;241m1\u001b[39m):\n",
      "\u001b[0;31mMemoryError\u001b[0m: Unable to allocate 74.5 GiB for an array with shape (100001, 100001) and data type float64"
     ]
    }
   ],
   "source": [
    "\n",
    "N = 50000\n",
    "\n",
    "s2 = ReferenceOffsetSampler(N, 1)\n",
    "\n",
    "canvas = np.zeros((N, N))\n",
    "x,y = s2.sample(3, 9, 100000)\n",
    "for i in range(len(x)):\n",
    "    canvas[x[i], y[i]] += 1\n",
    "canvas /= canvas.sum()\n",
    "plt.matshow(canvas)\n",
    "plt.colorbar()"
   ]
  },
  {
   "cell_type": "code",
   "execution_count": 155,
   "metadata": {},
   "outputs": [
    {
     "ename": "MemoryError",
     "evalue": "Unable to allocate 74.5 GiB for an array with shape (100001, 100001) and data type float64",
     "output_type": "error",
     "traceback": [
      "\u001b[0;31m---------------------------------------------------------------------------\u001b[0m",
      "\u001b[0;31mMemoryError\u001b[0m                               Traceback (most recent call last)",
      "Cell \u001b[0;32mIn[155], line 3\u001b[0m\n\u001b[1;32m      1\u001b[0m N \u001b[38;5;241m=\u001b[39m \u001b[38;5;241m50000\u001b[39m\n\u001b[0;32m----> 3\u001b[0m s2 \u001b[38;5;241m=\u001b[39m \u001b[43mRejectionOffsetSampler\u001b[49m\u001b[43m(\u001b[49m\u001b[43mN\u001b[49m\u001b[43m,\u001b[49m\u001b[43m \u001b[49m\u001b[38;5;241;43m1\u001b[39;49m\u001b[43m)\u001b[49m\n\u001b[1;32m      5\u001b[0m canvas \u001b[38;5;241m=\u001b[39m np\u001b[38;5;241m.\u001b[39mzeros((N, N))\n\u001b[1;32m      6\u001b[0m x,y \u001b[38;5;241m=\u001b[39m s2\u001b[38;5;241m.\u001b[39msample(\u001b[38;5;241m3\u001b[39m, \u001b[38;5;241m9\u001b[39m, \u001b[38;5;241m100000\u001b[39m)\n",
      "Cell \u001b[0;32mIn[150], line 35\u001b[0m, in \u001b[0;36mRejectionOffsetSampler.__init__\u001b[0;34m(self, n, alpha)\u001b[0m\n\u001b[1;32m     33\u001b[0m \u001b[38;5;28mself\u001b[39m\u001b[38;5;241m.\u001b[39malpha \u001b[38;5;241m=\u001b[39m alpha\n\u001b[1;32m     34\u001b[0m \u001b[38;5;28mself\u001b[39m\u001b[38;5;241m.\u001b[39mdistance_sampler \u001b[38;5;241m=\u001b[39m MultinomialDistanceSampler(n, alpha)\n\u001b[0;32m---> 35\u001b[0m \u001b[38;5;28mself\u001b[39m\u001b[38;5;241m.\u001b[39mdist2offset \u001b[38;5;241m=\u001b[39m \u001b[43mReferenceOffsetByDistance\u001b[49m\u001b[43m(\u001b[49m\u001b[43mn\u001b[49m\u001b[43m)\u001b[49m\n",
      "Cell \u001b[0;32mIn[137], line 5\u001b[0m, in \u001b[0;36mReferenceOffsetByDistance.__init__\u001b[0;34m(self, n)\u001b[0m\n\u001b[1;32m      3\u001b[0m \u001b[38;5;28;01mdef\u001b[39;00m \u001b[38;5;21m__init__\u001b[39m(\u001b[38;5;28mself\u001b[39m, n: \u001b[38;5;28mint\u001b[39m) \u001b[38;5;241m-\u001b[39m\u001b[38;5;241m>\u001b[39m \u001b[38;5;28;01mNone\u001b[39;00m:\n\u001b[1;32m      4\u001b[0m     \u001b[38;5;28mself\u001b[39m\u001b[38;5;241m.\u001b[39mn \u001b[38;5;241m=\u001b[39m n\n\u001b[0;32m----> 5\u001b[0m     \u001b[38;5;28mself\u001b[39m\u001b[38;5;241m.\u001b[39mdistances \u001b[38;5;241m=\u001b[39m \u001b[43mnp\u001b[49m\u001b[38;5;241;43m.\u001b[39;49m\u001b[43mzeros\u001b[49m\u001b[43m(\u001b[49m\u001b[43m(\u001b[49m\u001b[43mn\u001b[49m\u001b[38;5;241;43m*\u001b[39;49m\u001b[38;5;241;43m2\u001b[39;49m\u001b[38;5;241;43m+\u001b[39;49m\u001b[38;5;241;43m1\u001b[39;49m\u001b[43m,\u001b[49m\u001b[43m \u001b[49m\u001b[43mn\u001b[49m\u001b[38;5;241;43m*\u001b[39;49m\u001b[38;5;241;43m2\u001b[39;49m\u001b[38;5;241;43m+\u001b[39;49m\u001b[38;5;241;43m1\u001b[39;49m\u001b[43m)\u001b[49m\u001b[43m)\u001b[49m\n\u001b[1;32m      6\u001b[0m     \u001b[38;5;28;01mfor\u001b[39;00m i \u001b[38;5;129;01min\u001b[39;00m \u001b[38;5;28mrange\u001b[39m(n\u001b[38;5;241m*\u001b[39m\u001b[38;5;241m2\u001b[39m\u001b[38;5;241m+\u001b[39m\u001b[38;5;241m1\u001b[39m):\n\u001b[1;32m      7\u001b[0m         \u001b[38;5;28;01mfor\u001b[39;00m j \u001b[38;5;129;01min\u001b[39;00m \u001b[38;5;28mrange\u001b[39m(n\u001b[38;5;241m*\u001b[39m\u001b[38;5;241m2\u001b[39m\u001b[38;5;241m+\u001b[39m\u001b[38;5;241m1\u001b[39m):\n",
      "\u001b[0;31mMemoryError\u001b[0m: Unable to allocate 74.5 GiB for an array with shape (100001, 100001) and data type float64"
     ]
    }
   ],
   "source": [
    "\n",
    "N = 50000\n",
    "\n",
    "s2 = RejectionOffsetSampler(N, 1)\n",
    "\n",
    "canvas = np.zeros((N, N))\n",
    "x,y = s2.sample(3, 9, 100000)"
   ]
  }
 ],
 "metadata": {
  "kernelspec": {
   "display_name": "base",
   "language": "python",
   "name": "python3"
  },
  "language_info": {
   "codemirror_mode": {
    "name": "ipython",
    "version": 3
   },
   "file_extension": ".py",
   "mimetype": "text/x-python",
   "name": "python",
   "nbconvert_exporter": "python",
   "pygments_lexer": "ipython3",
   "version": "3.8.18"
  }
 },
 "nbformat": 4,
 "nbformat_minor": 2
}
