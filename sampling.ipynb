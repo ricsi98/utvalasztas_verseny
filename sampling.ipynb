{
 "cells": [
  {
   "cell_type": "code",
   "execution_count": 2,
   "metadata": {},
   "outputs": [],
   "source": [
    "import numpy as np\n",
    "import matplotlib.pyplot as plt"
   ]
  },
  {
   "cell_type": "code",
   "execution_count": 3,
   "metadata": {},
   "outputs": [],
   "source": [
    "def manhattan(x1: int, y1: int, x2: int, y2: int) -> int:\n",
    "    return abs(x1 - x2) + abs(y1 - y2)\n",
    "\n",
    "def lr_proba(dist, alpha):\n",
    "    if not isinstance(dist, np.ndarray):\n",
    "        dist = np.array(dist, dtype=float)\n",
    "    \n",
    "    zero_mask = dist <= 1\n",
    "    result = np.zeros_like(dist)\n",
    "    result[~zero_mask] = dist[~zero_mask] ** -alpha\n",
    "    return result"
   ]
  },
  {
   "cell_type": "markdown",
   "metadata": {},
   "source": [
    "# Sampling offset distance"
   ]
  },
  {
   "cell_type": "code",
   "execution_count": 4,
   "metadata": {},
   "outputs": [
    {
     "data": {
      "text/plain": [
       "Text(0, 0.5, 'Probability')"
      ]
     },
     "execution_count": 4,
     "metadata": {},
     "output_type": "execute_result"
    },
    {
     "data": {
      "image/png": "[encoded data removed]",
      "text/plain": [
       "<Figure size 640x480 with 1 Axes>"
      ]
     },
     "metadata": {},
     "output_type": "display_data"
    }
   ],
   "source": [
    "def num_of_distance(n,i):\n",
    "    assert n % 2 == 1\n",
    "    diameter = (n-1) // 2\n",
    "    if i == 0:\n",
    "        return 1\n",
    "    if i <= diameter:\n",
    "        return 4 * i\n",
    "    z = 2*diameter - i+1\n",
    "    return 4 * z\n",
    "\n",
    "\n",
    "class ReferenceDistanceSampler:\n",
    "    def __init__(self, n: int, alpha: float):\n",
    "        self.n = n\n",
    "        self.alpha = alpha\n",
    "        proba_mtx = np.zeros((n*2+1, n*2+1))\n",
    "        for i in range(n*2+1):\n",
    "            for j in range(n*2+1):\n",
    "                dist = manhattan(n, n, i, j)\n",
    "                proba_mtx[i, j] = lr_proba(dist, alpha)\n",
    "        proba_mtx /= proba_mtx.sum()\n",
    "        self.probas = proba_mtx.flatten()\n",
    "        self.index = np.arange(len(self.probas))\n",
    "\n",
    "    def sample(self, num_samples: int = 1):\n",
    "        indices = np.random.choice(self.index, p=self.probas, size=num_samples)\n",
    "        x, y = np.unravel_index(indices, (self.n*2+1, self.n*2+1))\n",
    "        x -= self.n\n",
    "        y -= self.n\n",
    "        return np.abs(x) + np.abs(y)\n",
    "    \n",
    "\n",
    "class MultinomialDistanceSampler:\n",
    "    def __init__(self, n: int, alpha: float) -> None:\n",
    "        self.n = n\n",
    "        self.alpha = alpha\n",
    "        self.max_dist = n*2+1\n",
    "        self.values = np.arange(2, self.max_dist+1)\n",
    "        self.probas = lr_proba(self.values.astype(float), alpha)\n",
    "        for i in range(2, self.max_dist+1):\n",
    "            self.probas[i-2] *= num_of_distance(n*2+1, i)\n",
    "        self.probas /= self.probas.sum()\n",
    "\n",
    "    def sample(self, num_samples: int = 1):\n",
    "        return np.random.choice(self.values, p=self.probas, size=num_samples)\n",
    "\n",
    "\n",
    "\n",
    "m = MultinomialDistanceSampler(10,1)\n",
    "s = ReferenceDistanceSampler(10, 1)\n",
    "samples = s.sample(100000)\n",
    "samples2 = m.sample(100000)\n",
    "plt.hist(samples, bins=len(set(samples)), density=True, alpha=.78)\n",
    "plt.hist(samples2, bins=len(set(samples2)), density=True, alpha=.78)\n",
    "plt.plot(m.values, m.probas, 'r')\n",
    "plt.xlabel('Distance')\n",
    "plt.ylabel('Probability')"
   ]
  },
  {
   "cell_type": "code",
   "execution_count": 29,
   "metadata": {},
   "outputs": [
    {
     "name": "stdout",
     "output_type": "stream",
     "text": [
      "[]\n",
      "[]\n"
     ]
    }
   ],
   "source": [
    "class ReferenceDistanceIndex2Offset:\n",
    "\n",
    "    def __init__(self, n: int) -> None:\n",
    "        self.n = n\n",
    "        self.distances = np.zeros((n*2+1, n*2+1))\n",
    "        for i in range(n*2+1):\n",
    "            for j in range(n*2+1):\n",
    "                dist = manhattan(n, n, i, j)\n",
    "                self.distances[i, j] = dist\n",
    "\n",
    "    def sample(self, distance: int, index: int):\n",
    "        x,y = (self.distances == distance).nonzero()\n",
    "        x -= self.n\n",
    "        y -= self.n\n",
    "        return x[index], y[index]\n",
    "    \n",
    "\n",
    "class FastDistanceIndex2Offset:\n",
    "\n",
    "    def __init__(self, n: int) -> None:\n",
    "        self.n = n\n",
    "\n",
    "    def sample(self, distance: int, index: int):\n",
    "        n = num_of_distance(self.n*2+1, distance)\n",
    "        assert index < n, f'Index {index} is out of bounds for distance {distance}'\n",
    "        fields_per_side = n // 4\n",
    "        field_idx = index // fields_per_side\n",
    "        remainder = index % fields_per_side\n",
    "        \n",
    "        min_x = max(1, distance - self.n)\n",
    "        dx = min_x + remainder\n",
    "        dy = distance - dx\n",
    "        if field_idx == 0:\n",
    "            return dx, dy\n",
    "        elif field_idx == 1:\n",
    "            return dy, -dx\n",
    "        elif field_idx == 2:\n",
    "            return -dx, -dy\n",
    "        else:\n",
    "            return -dy, dx\n",
    "\n",
    "\n",
    "\n",
    "k = 11\n",
    "n = 5\n",
    "q = FastDistanceIndex2Offset(n)\n",
    "qref = ReferenceDistanceIndex2Offset(n)\n",
    "indices = [q.sample(k, i) for i in range(num_of_distance(n*2+1, k))]\n",
    "indices2 = [qref.sample(k, i) for i in range(num_of_distance(n*2+1, k))]\n",
    "print(indices)\n",
    "print(indices2)\n",
    "assert set(indices) == set(indices2)"
   ]
  },
  {
   "cell_type": "markdown",
   "metadata": {},
   "source": [
    "# Sampling offset"
   ]
  },
  {
   "cell_type": "code",
   "execution_count": 63,
   "metadata": {},
   "outputs": [
    {
     "data": {
      "text/plain": [
       "(array([7, 2, 0, 4, 0, 2]), array([ 2, 10,  8,  5,  5,  0]))"
      ]
     },
     "execution_count": 63,
     "metadata": {},
     "output_type": "execute_result"
    }
   ],
   "source": [
    "class ReferenceOffsetSampler:\n",
    "\n",
    "    def __init__(self, n: int, alpha: float) -> None:\n",
    "        self.n = n\n",
    "        self.alpha = alpha\n",
    "        proba_mtx = np.zeros((n*2+1, n*2+1))\n",
    "        for i in range(n*2+1):\n",
    "            for j in range(n*2+1):\n",
    "                dist = manhattan(n, n, i, j)\n",
    "                proba_mtx[i, j] = lr_proba(dist, alpha)\n",
    "        # unnormalized probabilities\n",
    "        self.uprob = proba_mtx\n",
    "\n",
    "    def _proba_view(self, gx: int, gy: int) -> np.ndarray:\n",
    "        assert 0 <= gx < self.n\n",
    "        assert 0 <= gy < self.n\n",
    "        sx = self.n - gx\n",
    "        sy = self.n - gy\n",
    "        return self.uprob[sx:sx+self.n, sy:sy+self.n].copy()\n",
    "    \n",
    "    def sample(self, gx: int, gy: int, num_samples: int = 1):\n",
    "        proba = self._proba_view(gx, gy)\n",
    "        proba /= proba.sum()\n",
    "        indices = np.random.choice(np.arange(self.n*self.n), p=proba.flatten(), size=num_samples)\n",
    "        x, y = np.unravel_index(indices, (self.n, self.n))\n",
    "        return x, y\n",
    "    \n",
    "\n",
    "class RejectionOffsetSampler:\n",
    "\n",
    "    def __init__(self, n: int, alpha: float) -> None:\n",
    "        self.n = n\n",
    "        self.alpha = alpha\n",
    "        self.distance_sampler = MultinomialDistanceSampler(n, alpha)\n",
    "        self.dist2offset = FastDistanceIndex2Offset(n)\n",
    "\n",
    "    def _sample_offset_for_distance(self, distance: int):\n",
    "        n = num_of_distance(self.n*2+1, distance)\n",
    "        index = np.random.randint(n)\n",
    "        return self.dist2offset.sample(distance, index)\n",
    "\n",
    "    def sample(self, gx: int, gy: int, num_samples: int = 1):\n",
    "        samples = []\n",
    "        while len(samples) < num_samples:\n",
    "            distance = self.distance_sampler.sample(num_samples)\n",
    "            for d in distance:\n",
    "                x, y = self._sample_offset_for_distance(d)\n",
    "                x += gx\n",
    "                y += gy\n",
    "                if 0 <= x < self.n and 0 <= y < self.n:\n",
    "                    samples.append((x, y))\n",
    "        x,y = zip(*samples)\n",
    "        return np.array(x), np.array(y)\n",
    "    \n",
    "q = RejectionOffsetSampler(11, 1)\n",
    "\n",
    "q.sample(0,0, 5)"
   ]
  },
  {
   "cell_type": "markdown",
   "metadata": {},
   "source": [
    "# Putting everything together"
   ]
  },
  {
   "cell_type": "code",
   "execution_count": 84,
   "metadata": {},
   "outputs": [
    {
     "name": "stderr",
     "output_type": "stream",
     "text": [
      " 58%|█████▊    | 116/200 [00:26<00:15,  5.30it/s]"
     ]
    }
   ],
   "source": [
    "from tqdm import tqdm\n",
    "class Navigator:\n",
    "\n",
    "    def __init__(self, offset_sampler: ReferenceOffsetSampler) -> None:\n",
    "        self.os = offset_sampler\n",
    "\n",
    "    def _step(self, cx: int, cy: int, tx: int, ty: int):\n",
    "        lx, ly = self.os.sample(cx, cy)\n",
    "        lx, ly = lx[0], ly[0]\n",
    "        long_range_distance = manhattan(lx, ly, tx, ty)\n",
    "        short_range_distance = manhattan(cx, cy, tx, ty) - 1\n",
    "        if long_range_distance < short_range_distance:\n",
    "            return lx, ly\n",
    "        else:\n",
    "            if cx < tx:\n",
    "                return cx + 1, cy\n",
    "            elif cx > tx:\n",
    "                return cx - 1, cy\n",
    "            elif cy < ty:\n",
    "                return cx, cy + 1\n",
    "            else:\n",
    "                return cx, cy - 1\n",
    "\n",
    "    def navigate(self, cx: int, cy: int, tx: int, ty: int):\n",
    "        assert 0 <= cx < self.os.n\n",
    "        assert 0 <= cy < self.os.n\n",
    "        assert 0 <= tx < self.os.n\n",
    "        assert 0 <= ty < self.os.n\n",
    "\n",
    "        path = []\n",
    "        while cx != tx or cy != ty:\n",
    "            cx, cy = self._step(cx, cy, tx, ty)\n",
    "            path.append((cx, cy))\n",
    "        return path\n",
    "    \n",
    "\n",
    "\n",
    "N = 10_000\n",
    "EPSILON = 1\n",
    "\n",
    "\n",
    "distances = {}\n",
    "\n",
    "for alpha in np.linspace(0, 2.5, 13):\n",
    "    os = RejectionOffsetSampler(N, alpha)\n",
    "    nav = Navigator(os)\n",
    "\n",
    "    distances[alpha] = []\n",
    "    for _ in tqdm(range(200), total=200):\n",
    "        cx, cy, tx, ty = np.random.randint(N, size=4)\n",
    "        distances[alpha].append(len(nav.navigate(cx, cy, tx, ty)))"
   ]
  },
  {
   "cell_type": "code",
   "execution_count": 83,
   "metadata": {},
   "outputs": [
    {
     "data": {
      "text/plain": [
       "[<matplotlib.lines.Line2D at 0x7b26566fc6d0>]"
      ]
     },
     "execution_count": 83,
     "metadata": {},
     "output_type": "execute_result"
    },
    {
     "data": {
      "image/png": "[encoded data removed]",
      "text/plain": [
       "<Figure size 640x480 with 1 Axes>"
      ]
     },
     "metadata": {},
     "output_type": "display_data"
    }
   ],
   "source": [
    "import matplotlib.pyplot as plt\n",
    "\n",
    "plt.plot(distances.keys(), [np.log(np.mean(distances[alpha])) for alpha in distances.keys()])"
   ]
  },
  {
   "cell_type": "code",
   "execution_count": null,
   "metadata": {},
   "outputs": [],
   "source": []
  }
 ],
 "metadata": {
  "kernelspec": {
   "display_name": "base",
   "language": "python",
   "name": "python3"
  },
  "language_info": {
   "codemirror_mode": {
    "name": "ipython",
    "version": 3
   },
   "file_extension": ".py",
   "mimetype": "text/x-python",
   "name": "python",
   "nbconvert_exporter": "python",
   "pygments_lexer": "ipython3",
   "version": "3.8.18"
  }
 },
 "nbformat": 4,
 "nbformat_minor": 2
}
