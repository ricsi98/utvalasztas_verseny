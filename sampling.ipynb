{
 "cells": [
  {
   "cell_type": "code",
   "execution_count": 1,
   "metadata": {},
   "outputs": [],
   "source": [
    "import numpy as np\n",
    "import matplotlib.pyplot as plt"
   ]
  },
  {
   "cell_type": "code",
   "execution_count": 20,
   "metadata": {},
   "outputs": [],
   "source": [
    "def manhattan(x1: int, y1: int, x2: int, y2: int) -> int:\n",
    "    return abs(x1 - x2) + abs(y1 - y2)\n",
    "\n",
    "def lr_proba(dist, alpha):\n",
    "    if not isinstance(dist, np.ndarray):\n",
    "        dist = np.array(dist, dtype=float)\n",
    "    \n",
    "    zero_mask = dist <= 1\n",
    "    result = np.zeros_like(dist)\n",
    "    result[~zero_mask] = dist[~zero_mask] ** -alpha\n",
    "    return result"
   ]
  },
  {
   "cell_type": "code",
   "execution_count": 69,
   "metadata": {},
   "outputs": [
    {
     "data": {
      "text/plain": [
       "Text(0, 0.5, 'Probability')"
      ]
     },
     "execution_count": 69,
     "metadata": {},
     "output_type": "execute_result"
    },
    {
     "data": {
      "image/png": "[encoded data removed]",
      "text/plain": [
       "<Figure size 640x480 with 1 Axes>"
      ]
     },
     "metadata": {},
     "output_type": "display_data"
    }
   ],
   "source": [
    "def num_of_distance(n,i):\n",
    "    assert n % 2 == 1\n",
    "    diameter = (n-1) // 2\n",
    "    if i == 0:\n",
    "        return 1\n",
    "    if i <= diameter:\n",
    "        return 4 * i\n",
    "    z = 2*diameter - i+1\n",
    "    return 4 * z\n",
    "\n",
    "\n",
    "class ReferenceDistanceSampler:\n",
    "    def __init__(self, n: int, alpha: float):\n",
    "        self.n = n\n",
    "        self.alpha = alpha\n",
    "        proba_mtx = np.zeros((n*2+1, n*2+1))\n",
    "        for i in range(n*2+1):\n",
    "            for j in range(n*2+1):\n",
    "                dist = manhattan(n, n, i, j)\n",
    "                proba_mtx[i, j] = lr_proba(dist, alpha)\n",
    "        proba_mtx /= proba_mtx.sum()\n",
    "        self.probas = proba_mtx.flatten()\n",
    "        self.index = np.arange(len(self.probas))\n",
    "\n",
    "    def sample(self, num_samples: int = 1):\n",
    "        indices = np.random.choice(self.index, p=self.probas, size=num_samples)\n",
    "        x, y = np.unravel_index(indices, (self.n*2+1, self.n*2+1))\n",
    "        x -= self.n\n",
    "        y -= self.n\n",
    "        return np.abs(x) + np.abs(y)\n",
    "    \n",
    "\n",
    "class MultinomialDistanceSampler:\n",
    "    def __init__(self, n: int, alpha: float) -> None:\n",
    "        self.n = n\n",
    "        self.alpha = alpha\n",
    "        self.max_dist = n*2+1\n",
    "        self.values = np.arange(2, self.max_dist+1)\n",
    "        self.probas = lr_proba(self.values.astype(float), alpha)\n",
    "        for i in range(2, self.max_dist+1):\n",
    "            self.probas[i-2] *= num_of_distance(n*2+1, i)\n",
    "        self.probas /= self.probas.sum()\n",
    "\n",
    "    def sample(self, num_samples: int = 1):\n",
    "        return np.random.choice(self.values, p=self.probas, size=num_samples)\n",
    "\n",
    "\n",
    "\n",
    "m = MultinomialDistanceSampler(10,1)\n",
    "s = ReferenceDistanceSampler(10, 1)\n",
    "samples = s.sample(100000)\n",
    "samples2 = m.sample(100000)\n",
    "plt.hist(samples, bins=len(set(samples)), density=True, alpha=.78)\n",
    "plt.hist(samples2, bins=len(set(samples2)), density=True, alpha=.78)\n",
    "plt.plot(m.values, m.probas, 'r')\n",
    "plt.xlabel('Distance')\n",
    "plt.ylabel('Probability')"
   ]
  },
  {
   "cell_type": "code",
   "execution_count": 73,
   "metadata": {},
   "outputs": [],
   "source": [
    "N = 1000\n",
    "ALPHA = 0.5\n",
    "sampler = MultinomialDistanceSampler(N, ALPHA)"
   ]
  },
  {
   "cell_type": "code",
   "execution_count": 75,
   "metadata": {},
   "outputs": [
    {
     "name": "stdout",
     "output_type": "stream",
     "text": [
      "91 µs ± 94.1 ns per loop (mean ± std. dev. of 7 runs, 10,000 loops each)\n"
     ]
    }
   ],
   "source": [
    "%%timeit\n",
    "sampler.sample(1000)"
   ]
  },
  {
   "cell_type": "code",
   "execution_count": 76,
   "metadata": {},
   "outputs": [
    {
     "data": {
      "text/plain": [
       "0.091"
      ]
     },
     "execution_count": 76,
     "metadata": {},
     "output_type": "execute_result"
    }
   ],
   "source": [
    "91 / 1000"
   ]
  }
 ],
 "metadata": {
  "kernelspec": {
   "display_name": "base",
   "language": "python",
   "name": "python3"
  },
  "language_info": {
   "codemirror_mode": {
    "name": "ipython",
    "version": 3
   },
   "file_extension": ".py",
   "mimetype": "text/x-python",
   "name": "python",
   "nbconvert_exporter": "python",
   "pygments_lexer": "ipython3",
   "version": "3.8.18"
  }
 },
 "nbformat": 4,
 "nbformat_minor": 2
}
