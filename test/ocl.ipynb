{
 "cells": [
  {
   "cell_type": "code",
   "execution_count": 6,
   "metadata": {},
   "outputs": [
    {
     "name": "stdout",
     "output_type": "stream",
     "text": [
      "Generated random numbers:\n",
      "[1713891541 3823634032 1827282629 ... 3603028920 2360589947  645801896]\n"
     ]
    }
   ],
   "source": [
    "import numpy as np\n",
    "import pyopencl as cl\n",
    "import pyopencl.array as cl_array\n",
    "from pyopencl import clrandom\n",
    "\n",
    "# Initialize PyOpenCL\n",
    "platform = cl.get_platforms()[0]\n",
    "device = platform.get_devices()[0]\n",
    "context = cl.Context([device])\n",
    "queue = cl.CommandQueue(context)\n",
    "\n",
    "# Define kernel function to generate random numbers using Philox\n",
    "kernel_code = \"\"\"//CL//\n",
    "#include <pyopencl-random123/philox.cl>\n",
    "#include <pyopencl-random123/threefry.cl>\n",
    "\n",
    "__kernel void generate_random_numbers(__global ulong *output, uint seed) {\n",
    "    const uint index = get_global_id(0);\n",
    "    philox4x32_ctr_t c={{}};\n",
    "    philox4x32_ukey_t uk={{}};\n",
    "\n",
    "    uk.v[0] = index;\n",
    "    philox4x32_key_t k = philox4x32keyinit(uk);\n",
    "    philox4x32_ctr_t r = philox4x32(c, k);\n",
    "    output[index] = r.v[0];\n",
    "}\n",
    "\"\"\"\n",
    "\n",
    "# Compile kernel function\n",
    "program = cl.Program(context, kernel_code).build()\n",
    "\n",
    "# Set up output buffer\n",
    "output_buffer = cl_array.zeros(queue, 1000_000, dtype=np.uint64)\n",
    "\n",
    "# Execute kernel\n",
    "program.generate_random_numbers(queue, output_buffer.shape, None, output_buffer.data, np.uint32(123))\n",
    "\n",
    "# Read output buffer\n",
    "output = output_buffer.get()\n",
    "\n",
    "# Print generated random numbers\n",
    "print(\"Generated random numbers:\")\n",
    "print(output)"
   ]
  },
  {
   "cell_type": "code",
   "execution_count": 7,
   "metadata": {},
   "outputs": [
    {
     "data": {
      "text/plain": [
       "(array([ 9946., 10263.,  9996., 10044., 10175.,  9950., 10087., 10015.,\n",
       "         9994., 10156., 10135.,  9761.,  9855.,  9960.,  9973.,  9863.,\n",
       "        10044., 10071.,  9901.,  9940.,  9921., 10181., 10114.,  9805.,\n",
       "         9953.,  9839.,  9954., 10017., 10095.,  9966., 10008.,  9913.,\n",
       "        10081., 10015.,  9844., 10236., 10072., 10026., 10023., 10041.,\n",
       "         9904., 10112.,  9862., 10221.,  9888., 10083., 10024.,  9981.,\n",
       "        10046.,  9954., 10037., 10078., 10056., 10037., 10010.,  9913.,\n",
       "        10028.,  9900.,  9890.,  9974., 10060., 10112.,  9982.,  9762.,\n",
       "        10147.,  9910.,  9892.,  9944.,  9938.,  9998.,  9783.,  9935.,\n",
       "        10043., 10033., 10026., 10062.,  9907., 10070.,  9855.,  9992.,\n",
       "         9725.,  9968.,  9879., 10089., 10066., 10135., 10099., 10033.,\n",
       "         9819., 10058., 10042., 10030., 10222., 10057., 10071., 10213.,\n",
       "         9944.,  9985.,  9982.,  9901.]),\n",
       " array([0.00000000e+00, 4.29496730e+07, 8.58993459e+07, 1.28849019e+08,\n",
       "        1.71798692e+08, 2.14748365e+08, 2.57698038e+08, 3.00647711e+08,\n",
       "        3.43597384e+08, 3.86547057e+08, 4.29496730e+08, 4.72446403e+08,\n",
       "        5.15396076e+08, 5.58345748e+08, 6.01295421e+08, 6.44245094e+08,\n",
       "        6.87194767e+08, 7.30144440e+08, 7.73094113e+08, 8.16043786e+08,\n",
       "        8.58993459e+08, 9.01943132e+08, 9.44892805e+08, 9.87842478e+08,\n",
       "        1.03079215e+09, 1.07374182e+09, 1.11669150e+09, 1.15964117e+09,\n",
       "        1.20259084e+09, 1.24554052e+09, 1.28849019e+09, 1.33143986e+09,\n",
       "        1.37438953e+09, 1.41733921e+09, 1.46028888e+09, 1.50323855e+09,\n",
       "        1.54618823e+09, 1.58913790e+09, 1.63208757e+09, 1.67503725e+09,\n",
       "        1.71798692e+09, 1.76093659e+09, 1.80388626e+09, 1.84683594e+09,\n",
       "        1.88978561e+09, 1.93273528e+09, 1.97568496e+09, 2.01863463e+09,\n",
       "        2.06158430e+09, 2.10453398e+09, 2.14748365e+09, 2.19043332e+09,\n",
       "        2.23338299e+09, 2.27633267e+09, 2.31928234e+09, 2.36223201e+09,\n",
       "        2.40518169e+09, 2.44813136e+09, 2.49108103e+09, 2.53403070e+09,\n",
       "        2.57698038e+09, 2.61993005e+09, 2.66287972e+09, 2.70582940e+09,\n",
       "        2.74877907e+09, 2.79172874e+09, 2.83467842e+09, 2.87762809e+09,\n",
       "        2.92057776e+09, 2.96352743e+09, 3.00647711e+09, 3.04942678e+09,\n",
       "        3.09237645e+09, 3.13532613e+09, 3.17827580e+09, 3.22122547e+09,\n",
       "        3.26417514e+09, 3.30712482e+09, 3.35007449e+09, 3.39302416e+09,\n",
       "        3.43597384e+09, 3.47892351e+09, 3.52187318e+09, 3.56482286e+09,\n",
       "        3.60777253e+09, 3.65072220e+09, 3.69367187e+09, 3.73662155e+09,\n",
       "        3.77957122e+09, 3.82252089e+09, 3.86547057e+09, 3.90842024e+09,\n",
       "        3.95136991e+09, 3.99431959e+09, 4.03726926e+09, 4.08021893e+09,\n",
       "        4.12316860e+09, 4.16611828e+09, 4.20906795e+09, 4.25201762e+09,\n",
       "        4.29496730e+09]),\n",
       " <BarContainer object of 100 artists>)"
      ]
     },
     "execution_count": 7,
     "metadata": {},
     "output_type": "execute_result"
    },
    {
     "data": {
      "image/png": "[encoded data removed]",
      "text/plain": [
       "<Figure size 640x480 with 1 Axes>"
      ]
     },
     "metadata": {},
     "output_type": "display_data"
    }
   ],
   "source": [
    "import matplotlib.pyplot as plt\n",
    "plt.hist(output_buffer.get(), bins=100, range=(0, 2**32))"
   ]
  }
 ],
 "metadata": {
  "kernelspec": {
   "display_name": "base",
   "language": "python",
   "name": "python3"
  },
  "language_info": {
   "codemirror_mode": {
    "name": "ipython",
    "version": 3
   },
   "file_extension": ".py",
   "mimetype": "text/x-python",
   "name": "python",
   "nbconvert_exporter": "python",
   "pygments_lexer": "ipython3",
   "version": "3.8.18"
  }
 },
 "nbformat": 4,
 "nbformat_minor": 2
}
