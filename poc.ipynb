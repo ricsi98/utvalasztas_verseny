{
 "cells": [
  {
   "cell_type": "code",
   "execution_count": 122,
   "metadata": {},
   "outputs": [],
   "source": [
    "from typing import List, Dict, Tuple\n",
    "\n",
    "Node = Tuple[int, int]\n",
    "\n",
    "class Lattice:\n",
    "\n",
    "    def __init__(self, n: int, skip_connections: Dict[Node, Node]) -> None:\n",
    "        self.n = n\n",
    "        self.skip_connections = skip_connections\n",
    "\n",
    "    def get_neighbors(self, node: Node) -> List[int]:\n",
    "        neighbors = []\n",
    "        x,y = node\n",
    "        if x + 1 < self.n:\n",
    "            neighbors.append((x + 1, y))\n",
    "        if x - 1 >= 0:\n",
    "            neighbors.append((x - 1, y))\n",
    "        if y + 1 < self.n:\n",
    "            neighbors.append((x, y + 1))\n",
    "        if y - 1 >= 0:\n",
    "            neighbors.append((x, y - 1))\n",
    "        neighbors.append(self.skip_connections[node])\n",
    "        return neighbors\n",
    "    \n",
    "\n",
    "class LazySkipConnections:\n",
    "\n",
    "    def __init__(self, n: int, alpha: float) -> None:\n",
    "        self.n = n\n",
    "        self.alpha = alpha\n",
    "        self.skip_connections = {}\n",
    "        self.visited = set()\n",
    "\n",
    "    def _sample_neighbor(self, node: Node) -> Node:\n",
    "        probas = {(k,l): manhattan_distance(node,(k,l))**-self.alpha for k in range(self.n) for l in range(self.n) if (k,l) != node}\n",
    "        sum_probas = sum(probas.values())\n",
    "        probas = {k: v/sum_probas for k,v in probas.items()}\n",
    "        idx = np.random.choice(np.arange(len(probas)), p=list(probas.values()))\n",
    "        return list(probas.keys())[idx]\n",
    "\n",
    "    def __getitem__(self, node: Node) -> List[int]:\n",
    "        if node not in self.visited:\n",
    "            self.skip_connections[node] = self._sample_neighbor(node)\n",
    "            self.visited.add(node)\n",
    "        return self.skip_connections[node]\n",
    "\n",
    "\n",
    "def manhattan_distance(node1: Node, node2: Node) -> float:\n",
    "    return abs(node1[0] - node2[0]) + abs(node1[1] - node2[1])\n",
    "\n",
    "def euclidean_distance(node1: Node, node2: Node) -> float:\n",
    "    return ((node1[0] - node2[0])**2 + (node1[1] - node2[1])**2)**0.5\n",
    "\n",
    "\n",
    "class Navigator:\n",
    "\n",
    "    def __init__(self, start: Node, target: Node, current: Node = None, distance_metric: str = \"euclidean\") -> None:\n",
    "        self.start = start\n",
    "        self.target = target\n",
    "        self.trajectory = [current if current else start]\n",
    "        self.distance_metric = distance_metric\n",
    "\n",
    "    @property\n",
    "    def current(self) -> Node:\n",
    "        return self.trajectory[-1]\n",
    "    \n",
    "    @property\n",
    "    def trajectory_length(self) -> int:\n",
    "        return len(self.trajectory) - 1\n",
    "\n",
    "    def distance(self, node: Node) -> float:\n",
    "        if self.distance_metric == \"manhattan\":\n",
    "            return manhattan_distance(node, self.target)\n",
    "        elif self.distance_metric == \"euclidean\":\n",
    "            return euclidean_distance(node, self.target)\n",
    "        else:\n",
    "            raise ValueError(\"Invalid distance metric\")\n",
    "\n",
    "    def step(self, lattice: Lattice) -> None:\n",
    "        # we could spare computing immediate neighbor distances if the skip connection is picked more often\n",
    "        # so 1. check skip connection 2. check immediate neighbors\n",
    "        neighbors = lattice.get_neighbors(self.current)\n",
    "        distances = [self.distance(n) for n in neighbors]\n",
    "        next_node = neighbors[distances.index(min(distances))]\n",
    "        print(f\"Current node: {self.current}, Next node: {next_node}\")\n",
    "        self.trajectory.append(next_node)\n",
    "\n",
    "    def navigate(self, lattice: Lattice) -> None:\n",
    "        while self.current != self.target:\n",
    "            self.step(lattice)\n",
    "\n",
    "import numpy as np \n",
    "\n",
    "def generate_lattice(n: int, alpha: float) -> Lattice:\n",
    "    skip_connections = LazySkipConnections(n, alpha)\n",
    "    return Lattice(n, skip_connections)"
   ]
  },
  {
   "cell_type": "code",
   "execution_count": 125,
   "metadata": {},
   "outputs": [
    {
     "name": "stdout",
     "output_type": "stream",
     "text": [
      "Current node: (0, 0), Next node: (795, 283)\n",
      "Current node: (795, 283), Next node: (795, 284)\n",
      "Current node: (795, 284), Next node: (795, 285)\n",
      "Current node: (795, 285), Next node: (795, 286)\n",
      "Current node: (795, 286), Next node: (863, 659)\n",
      "Current node: (863, 659), Next node: (863, 660)\n",
      "Current node: (863, 660), Next node: (863, 661)\n",
      "Current node: (863, 661), Next node: (863, 662)\n",
      "Current node: (863, 662), Next node: (863, 663)\n",
      "Current node: (863, 663), Next node: (863, 664)\n",
      "Current node: (863, 664), Next node: (863, 665)\n",
      "Current node: (863, 665), Next node: (863, 666)\n",
      "Current node: (863, 666), Next node: (863, 667)\n",
      "Current node: (863, 667), Next node: (863, 668)\n",
      "Current node: (863, 668), Next node: (863, 669)\n",
      "Current node: (863, 669), Next node: (910, 820)\n",
      "Current node: (910, 820), Next node: (910, 821)\n",
      "Current node: (910, 821), Next node: (910, 822)\n",
      "Current node: (910, 822), Next node: (821, 969)\n",
      "Current node: (821, 969), Next node: (822, 969)\n",
      "Current node: (822, 969), Next node: (823, 969)\n",
      "Current node: (823, 969), Next node: (824, 969)\n",
      "Current node: (824, 969), Next node: (825, 969)\n",
      "Current node: (825, 969), Next node: (826, 969)\n",
      "Current node: (826, 969), Next node: (827, 969)\n",
      "Current node: (827, 969), Next node: (828, 969)\n",
      "Current node: (828, 969), Next node: (829, 969)\n",
      "Current node: (829, 969), Next node: (830, 969)\n",
      "Current node: (830, 969), Next node: (831, 969)\n",
      "Current node: (831, 969), Next node: (832, 969)\n",
      "Current node: (832, 969), Next node: (833, 969)\n",
      "Current node: (833, 969), Next node: (834, 969)\n",
      "Current node: (834, 969), Next node: (835, 969)\n",
      "Current node: (835, 969), Next node: (836, 969)\n",
      "Current node: (836, 969), Next node: (837, 969)\n",
      "Current node: (837, 969), Next node: (838, 969)\n",
      "Current node: (838, 969), Next node: (839, 969)\n",
      "Current node: (839, 969), Next node: (840, 969)\n",
      "Current node: (840, 969), Next node: (841, 969)\n",
      "Current node: (841, 969), Next node: (842, 969)\n",
      "Current node: (842, 969), Next node: (843, 969)\n",
      "Current node: (843, 969), Next node: (844, 969)\n",
      "Current node: (844, 969), Next node: (845, 969)\n",
      "Current node: (845, 969), Next node: (846, 969)\n",
      "Current node: (846, 969), Next node: (847, 969)\n",
      "Current node: (847, 969), Next node: (848, 969)\n",
      "Current node: (848, 969), Next node: (849, 969)\n",
      "Current node: (849, 969), Next node: (850, 969)\n",
      "Current node: (850, 969), Next node: (922, 932)\n",
      "Current node: (922, 932), Next node: (923, 932)\n",
      "Current node: (923, 932), Next node: (924, 932)\n",
      "Current node: (924, 932), Next node: (925, 932)\n",
      "Current node: (925, 932), Next node: (926, 932)\n",
      "Current node: (926, 932), Next node: (927, 932)\n",
      "Current node: (927, 932), Next node: (928, 932)\n",
      "Current node: (928, 932), Next node: (929, 932)\n",
      "Current node: (929, 932), Next node: (930, 932)\n",
      "Current node: (930, 932), Next node: (931, 932)\n",
      "Current node: (931, 932), Next node: (932, 932)\n",
      "Current node: (932, 932), Next node: (933, 932)\n",
      "Current node: (933, 932), Next node: (933, 933)\n",
      "Current node: (933, 933), Next node: (934, 933)\n",
      "Current node: (934, 933), Next node: (934, 934)\n",
      "Current node: (934, 934), Next node: (935, 934)\n",
      "Current node: (935, 934), Next node: (935, 935)\n",
      "Current node: (935, 935), Next node: (936, 935)\n",
      "Current node: (936, 935), Next node: (936, 936)\n",
      "Current node: (936, 936), Next node: (937, 936)\n",
      "Current node: (937, 936), Next node: (937, 937)\n",
      "Current node: (937, 937), Next node: (938, 937)\n",
      "Current node: (938, 937), Next node: (938, 938)\n",
      "Current node: (938, 938), Next node: (939, 938)\n",
      "Current node: (939, 938), Next node: (939, 939)\n",
      "Current node: (939, 939), Next node: (940, 939)\n",
      "Current node: (940, 939), Next node: (940, 940)\n",
      "Current node: (940, 940), Next node: (941, 940)\n",
      "Current node: (941, 940), Next node: (941, 941)\n",
      "Current node: (941, 941), Next node: (942, 941)\n",
      "Current node: (942, 941), Next node: (942, 942)\n",
      "Current node: (942, 942), Next node: (943, 942)\n",
      "Current node: (943, 942), Next node: (943, 943)\n",
      "Current node: (943, 943), Next node: (944, 943)\n",
      "Current node: (944, 943), Next node: (944, 944)\n",
      "Current node: (944, 944), Next node: (945, 944)\n",
      "Current node: (945, 944), Next node: (945, 945)\n",
      "Current node: (945, 945), Next node: (946, 945)\n",
      "Current node: (946, 945), Next node: (946, 946)\n",
      "Current node: (946, 946), Next node: (947, 946)\n",
      "Current node: (947, 946), Next node: (947, 947)\n",
      "Current node: (947, 947), Next node: (948, 947)\n",
      "Current node: (948, 947), Next node: (948, 948)\n",
      "Current node: (948, 948), Next node: (949, 948)\n",
      "Current node: (949, 948), Next node: (949, 949)\n",
      "Current node: (949, 949), Next node: (950, 949)\n",
      "Current node: (950, 949), Next node: (950, 950)\n",
      "Current node: (950, 950), Next node: (951, 950)\n",
      "Current node: (951, 950), Next node: (951, 951)\n",
      "Current node: (951, 951), Next node: (952, 951)\n",
      "Current node: (952, 951), Next node: (952, 952)\n",
      "Current node: (952, 952), Next node: (953, 952)\n",
      "Current node: (953, 952), Next node: (953, 953)\n",
      "Current node: (953, 953), Next node: (954, 953)\n",
      "Current node: (954, 953), Next node: (954, 954)\n",
      "Current node: (954, 954), Next node: (955, 954)\n",
      "Current node: (955, 954), Next node: (955, 955)\n",
      "Current node: (955, 955), Next node: (956, 955)\n",
      "Current node: (956, 955), Next node: (956, 956)\n",
      "Current node: (956, 956), Next node: (957, 956)\n",
      "Current node: (957, 956), Next node: (957, 957)\n",
      "Current node: (957, 957), Next node: (958, 957)\n",
      "Current node: (958, 957), Next node: (958, 958)\n",
      "Current node: (958, 958), Next node: (959, 958)\n",
      "Current node: (959, 958), Next node: (959, 959)\n",
      "Current node: (959, 959), Next node: (960, 959)\n",
      "Current node: (960, 959), Next node: (960, 960)\n",
      "Current node: (960, 960), Next node: (961, 960)\n",
      "Current node: (961, 960), Next node: (961, 961)\n",
      "Current node: (961, 961), Next node: (962, 961)\n",
      "Current node: (962, 961), Next node: (962, 962)\n",
      "Current node: (962, 962), Next node: (963, 962)\n",
      "Current node: (963, 962), Next node: (963, 963)\n",
      "Current node: (963, 963), Next node: (964, 963)\n",
      "Current node: (964, 963), Next node: (964, 964)\n",
      "Current node: (964, 964), Next node: (965, 964)\n",
      "Current node: (965, 964), Next node: (965, 965)\n",
      "Current node: (965, 965), Next node: (966, 965)\n",
      "Current node: (966, 965), Next node: (966, 966)\n",
      "Current node: (966, 966), Next node: (967, 966)\n",
      "Current node: (967, 966), Next node: (967, 967)\n",
      "Current node: (967, 967), Next node: (968, 967)\n",
      "Current node: (968, 967), Next node: (968, 968)\n",
      "Current node: (968, 968), Next node: (969, 968)\n",
      "Current node: (969, 968), Next node: (969, 969)\n",
      "Current node: (969, 969), Next node: (970, 969)\n",
      "Current node: (970, 969), Next node: (970, 970)\n",
      "Current node: (970, 970), Next node: (971, 970)\n",
      "Current node: (971, 970), Next node: (971, 971)\n",
      "Current node: (971, 971), Next node: (972, 971)\n",
      "Current node: (972, 971), Next node: (972, 972)\n",
      "Current node: (972, 972), Next node: (973, 972)\n",
      "Current node: (973, 972), Next node: (973, 973)\n",
      "Current node: (973, 973), Next node: (974, 973)\n",
      "Current node: (974, 973), Next node: (974, 974)\n"
     ]
    },
    {
     "ename": "KeyboardInterrupt",
     "evalue": "",
     "output_type": "error",
     "traceback": [
      "\u001b[0;31m---------------------------------------------------------------------------\u001b[0m",
      "\u001b[0;31mKeyboardInterrupt\u001b[0m                         Traceback (most recent call last)",
      "Cell \u001b[0;32mIn[125], line 4\u001b[0m\n\u001b[1;32m      2\u001b[0m \u001b[38;5;66;03m#lattice = Lattice(20000, )\u001b[39;00m\n\u001b[1;32m      3\u001b[0m navigator \u001b[38;5;241m=\u001b[39m Navigator((\u001b[38;5;241m0\u001b[39m,\u001b[38;5;241m0\u001b[39m), (\u001b[38;5;241m999\u001b[39m,\u001b[38;5;241m999\u001b[39m))\n\u001b[0;32m----> 4\u001b[0m \u001b[43mnavigator\u001b[49m\u001b[38;5;241;43m.\u001b[39;49m\u001b[43mnavigate\u001b[49m\u001b[43m(\u001b[49m\u001b[43mlattice\u001b[49m\u001b[43m)\u001b[49m\n\u001b[1;32m      5\u001b[0m \u001b[38;5;28mprint\u001b[39m(navigator\u001b[38;5;241m.\u001b[39mtrajectory)\n\u001b[1;32m      6\u001b[0m \u001b[38;5;28mprint\u001b[39m(navigator\u001b[38;5;241m.\u001b[39mtrajectory_length)\n",
      "Cell \u001b[0;32mIn[122], line 88\u001b[0m, in \u001b[0;36mNavigator.navigate\u001b[0;34m(self, lattice)\u001b[0m\n\u001b[1;32m     86\u001b[0m \u001b[38;5;28;01mdef\u001b[39;00m \u001b[38;5;21mnavigate\u001b[39m(\u001b[38;5;28mself\u001b[39m, lattice: Lattice) \u001b[38;5;241m-\u001b[39m\u001b[38;5;241m>\u001b[39m \u001b[38;5;28;01mNone\u001b[39;00m:\n\u001b[1;32m     87\u001b[0m     \u001b[38;5;28;01mwhile\u001b[39;00m \u001b[38;5;28mself\u001b[39m\u001b[38;5;241m.\u001b[39mcurrent \u001b[38;5;241m!=\u001b[39m \u001b[38;5;28mself\u001b[39m\u001b[38;5;241m.\u001b[39mtarget:\n\u001b[0;32m---> 88\u001b[0m         \u001b[38;5;28;43mself\u001b[39;49m\u001b[38;5;241;43m.\u001b[39;49m\u001b[43mstep\u001b[49m\u001b[43m(\u001b[49m\u001b[43mlattice\u001b[49m\u001b[43m)\u001b[49m\n",
      "Cell \u001b[0;32mIn[122], line 80\u001b[0m, in \u001b[0;36mNavigator.step\u001b[0;34m(self, lattice)\u001b[0m\n\u001b[1;32m     79\u001b[0m \u001b[38;5;28;01mdef\u001b[39;00m \u001b[38;5;21mstep\u001b[39m(\u001b[38;5;28mself\u001b[39m, lattice: Lattice) \u001b[38;5;241m-\u001b[39m\u001b[38;5;241m>\u001b[39m \u001b[38;5;28;01mNone\u001b[39;00m:\n\u001b[0;32m---> 80\u001b[0m     neighbors \u001b[38;5;241m=\u001b[39m \u001b[43mlattice\u001b[49m\u001b[38;5;241;43m.\u001b[39;49m\u001b[43mget_neighbors\u001b[49m\u001b[43m(\u001b[49m\u001b[38;5;28;43mself\u001b[39;49m\u001b[38;5;241;43m.\u001b[39;49m\u001b[43mcurrent\u001b[49m\u001b[43m)\u001b[49m\n\u001b[1;32m     81\u001b[0m     distances \u001b[38;5;241m=\u001b[39m [\u001b[38;5;28mself\u001b[39m\u001b[38;5;241m.\u001b[39mdistance(n) \u001b[38;5;28;01mfor\u001b[39;00m n \u001b[38;5;129;01min\u001b[39;00m neighbors]\n\u001b[1;32m     82\u001b[0m     next_node \u001b[38;5;241m=\u001b[39m neighbors[distances\u001b[38;5;241m.\u001b[39mindex(\u001b[38;5;28mmin\u001b[39m(distances))]\n",
      "Cell \u001b[0;32mIn[122], line 22\u001b[0m, in \u001b[0;36mLattice.get_neighbors\u001b[0;34m(self, node)\u001b[0m\n\u001b[1;32m     20\u001b[0m \u001b[38;5;28;01mif\u001b[39;00m y \u001b[38;5;241m-\u001b[39m \u001b[38;5;241m1\u001b[39m \u001b[38;5;241m>\u001b[39m\u001b[38;5;241m=\u001b[39m \u001b[38;5;241m0\u001b[39m:\n\u001b[1;32m     21\u001b[0m     neighbors\u001b[38;5;241m.\u001b[39mappend((x, y \u001b[38;5;241m-\u001b[39m \u001b[38;5;241m1\u001b[39m))\n\u001b[0;32m---> 22\u001b[0m neighbors\u001b[38;5;241m.\u001b[39mappend(\u001b[38;5;28;43mself\u001b[39;49m\u001b[38;5;241;43m.\u001b[39;49m\u001b[43mskip_connections\u001b[49m\u001b[43m[\u001b[49m\u001b[43mnode\u001b[49m\u001b[43m]\u001b[49m)\n\u001b[1;32m     23\u001b[0m \u001b[38;5;28;01mreturn\u001b[39;00m neighbors\n",
      "Cell \u001b[0;32mIn[122], line 43\u001b[0m, in \u001b[0;36mLazySkipConnections.__getitem__\u001b[0;34m(self, node)\u001b[0m\n\u001b[1;32m     41\u001b[0m \u001b[38;5;28;01mdef\u001b[39;00m \u001b[38;5;21m__getitem__\u001b[39m(\u001b[38;5;28mself\u001b[39m, node: Node) \u001b[38;5;241m-\u001b[39m\u001b[38;5;241m>\u001b[39m List[\u001b[38;5;28mint\u001b[39m]:\n\u001b[1;32m     42\u001b[0m     \u001b[38;5;28;01mif\u001b[39;00m node \u001b[38;5;129;01mnot\u001b[39;00m \u001b[38;5;129;01min\u001b[39;00m \u001b[38;5;28mself\u001b[39m\u001b[38;5;241m.\u001b[39mvisited:\n\u001b[0;32m---> 43\u001b[0m         \u001b[38;5;28mself\u001b[39m\u001b[38;5;241m.\u001b[39mskip_connections[node] \u001b[38;5;241m=\u001b[39m \u001b[38;5;28;43mself\u001b[39;49m\u001b[38;5;241;43m.\u001b[39;49m\u001b[43m_sample_neighbor\u001b[49m\u001b[43m(\u001b[49m\u001b[43mnode\u001b[49m\u001b[43m)\u001b[49m\n\u001b[1;32m     44\u001b[0m         \u001b[38;5;28mself\u001b[39m\u001b[38;5;241m.\u001b[39mvisited\u001b[38;5;241m.\u001b[39madd(node)\n\u001b[1;32m     45\u001b[0m     \u001b[38;5;28;01mreturn\u001b[39;00m \u001b[38;5;28mself\u001b[39m\u001b[38;5;241m.\u001b[39mskip_connections[node]\n",
      "Cell \u001b[0;32mIn[122], line 37\u001b[0m, in \u001b[0;36mLazySkipConnections._sample_neighbor\u001b[0;34m(self, node)\u001b[0m\n\u001b[1;32m     35\u001b[0m probas \u001b[38;5;241m=\u001b[39m {(k,l): manhattan_distance(node,(k,l))\u001b[38;5;241m*\u001b[39m\u001b[38;5;241m*\u001b[39m\u001b[38;5;241m-\u001b[39m\u001b[38;5;28mself\u001b[39m\u001b[38;5;241m.\u001b[39malpha \u001b[38;5;28;01mfor\u001b[39;00m k \u001b[38;5;129;01min\u001b[39;00m \u001b[38;5;28mrange\u001b[39m(\u001b[38;5;28mself\u001b[39m\u001b[38;5;241m.\u001b[39mn) \u001b[38;5;28;01mfor\u001b[39;00m l \u001b[38;5;129;01min\u001b[39;00m \u001b[38;5;28mrange\u001b[39m(\u001b[38;5;28mself\u001b[39m\u001b[38;5;241m.\u001b[39mn) \u001b[38;5;28;01mif\u001b[39;00m (k,l) \u001b[38;5;241m!=\u001b[39m node}\n\u001b[1;32m     36\u001b[0m sum_probas \u001b[38;5;241m=\u001b[39m \u001b[38;5;28msum\u001b[39m(probas\u001b[38;5;241m.\u001b[39mvalues())\n\u001b[0;32m---> 37\u001b[0m probas \u001b[38;5;241m=\u001b[39m {k: v\u001b[38;5;241m/\u001b[39msum_probas \u001b[38;5;28;01mfor\u001b[39;00m k,v \u001b[38;5;129;01min\u001b[39;00m probas\u001b[38;5;241m.\u001b[39mitems()}\n\u001b[1;32m     38\u001b[0m idx \u001b[38;5;241m=\u001b[39m np\u001b[38;5;241m.\u001b[39mrandom\u001b[38;5;241m.\u001b[39mchoice(np\u001b[38;5;241m.\u001b[39marange(\u001b[38;5;28mlen\u001b[39m(probas)), p\u001b[38;5;241m=\u001b[39m\u001b[38;5;28mlist\u001b[39m(probas\u001b[38;5;241m.\u001b[39mvalues()))\n\u001b[1;32m     39\u001b[0m \u001b[38;5;28;01mreturn\u001b[39;00m \u001b[38;5;28mlist\u001b[39m(probas\u001b[38;5;241m.\u001b[39mkeys())[idx]\n",
      "Cell \u001b[0;32mIn[122], line 37\u001b[0m, in \u001b[0;36m<dictcomp>\u001b[0;34m(.0)\u001b[0m\n\u001b[1;32m     35\u001b[0m probas \u001b[38;5;241m=\u001b[39m {(k,l): manhattan_distance(node,(k,l))\u001b[38;5;241m*\u001b[39m\u001b[38;5;241m*\u001b[39m\u001b[38;5;241m-\u001b[39m\u001b[38;5;28mself\u001b[39m\u001b[38;5;241m.\u001b[39malpha \u001b[38;5;28;01mfor\u001b[39;00m k \u001b[38;5;129;01min\u001b[39;00m \u001b[38;5;28mrange\u001b[39m(\u001b[38;5;28mself\u001b[39m\u001b[38;5;241m.\u001b[39mn) \u001b[38;5;28;01mfor\u001b[39;00m l \u001b[38;5;129;01min\u001b[39;00m \u001b[38;5;28mrange\u001b[39m(\u001b[38;5;28mself\u001b[39m\u001b[38;5;241m.\u001b[39mn) \u001b[38;5;28;01mif\u001b[39;00m (k,l) \u001b[38;5;241m!=\u001b[39m node}\n\u001b[1;32m     36\u001b[0m sum_probas \u001b[38;5;241m=\u001b[39m \u001b[38;5;28msum\u001b[39m(probas\u001b[38;5;241m.\u001b[39mvalues())\n\u001b[0;32m---> 37\u001b[0m probas \u001b[38;5;241m=\u001b[39m {k: \u001b[43mv\u001b[49m\u001b[38;5;241;43m/\u001b[39;49m\u001b[43msum_probas\u001b[49m \u001b[38;5;28;01mfor\u001b[39;00m k,v \u001b[38;5;129;01min\u001b[39;00m probas\u001b[38;5;241m.\u001b[39mitems()}\n\u001b[1;32m     38\u001b[0m idx \u001b[38;5;241m=\u001b[39m np\u001b[38;5;241m.\u001b[39mrandom\u001b[38;5;241m.\u001b[39mchoice(np\u001b[38;5;241m.\u001b[39marange(\u001b[38;5;28mlen\u001b[39m(probas)), p\u001b[38;5;241m=\u001b[39m\u001b[38;5;28mlist\u001b[39m(probas\u001b[38;5;241m.\u001b[39mvalues()))\n\u001b[1;32m     39\u001b[0m \u001b[38;5;28;01mreturn\u001b[39;00m \u001b[38;5;28mlist\u001b[39m(probas\u001b[38;5;241m.\u001b[39mkeys())[idx]\n",
      "\u001b[0;31mKeyboardInterrupt\u001b[0m: "
     ]
    }
   ],
   "source": [
    "lattice = generate_lattice(1000, 0.1)\n",
    "#lattice = Lattice(20000, )\n",
    "navigator = Navigator((0,0), (999,999))\n",
    "navigator.navigate(lattice)\n",
    "print(navigator.trajectory)\n",
    "print(navigator.trajectory_length)"
   ]
  },
  {
   "cell_type": "code",
   "execution_count": 90,
   "metadata": {},
   "outputs": [
    {
     "data": {
      "text/plain": [
       "38"
      ]
     },
     "execution_count": 90,
     "metadata": {},
     "output_type": "execute_result"
    }
   ],
   "source": [
    "manhattan_distance((0,0), (19,19))"
   ]
  },
  {
   "cell_type": "code",
   "execution_count": 136,
   "metadata": {},
   "outputs": [
    {
     "name": "stdout",
     "output_type": "stream",
     "text": [
      "rdy\n"
     ]
    },
    {
     "data": {
      "text/plain": [
       "<matplotlib.colorbar.Colorbar at 0x7c8aa6dab160>"
      ]
     },
     "execution_count": 136,
     "metadata": {},
     "output_type": "execute_result"
    },
    {
     "data": {
      "image/png": "[encoded data removed]",
      "text/plain": [
       "<Figure size 480x480 with 2 Axes>"
      ]
     },
     "metadata": {},
     "output_type": "display_data"
    }
   ],
   "source": [
    "def generate_probability_matrix(k,l,n: int, alpha: float) -> np.ndarray:\n",
    "    matrix = np.zeros((n,n))\n",
    "    for i in range(n):\n",
    "        for j in range(n):\n",
    "            if (k,l) != (i,j):\n",
    "                matrix[i,j] += manhattan_distance((i,j),(k,l))**-alpha\n",
    "    return matrix / matrix.sum()\n",
    "\n",
    "import matplotlib.pyplot as plt\n",
    "\n",
    "matrix = generate_probability_matrix(100,200,500, 0.5)\n",
    "print(\"rdy\")\n",
    "plt.matshow(matrix, cmap=\"hot\")\n",
    "plt.colorbar()"
   ]
  },
  {
   "cell_type": "code",
   "execution_count": 140,
   "metadata": {},
   "outputs": [
    {
     "data": {
      "text/plain": [
       "[<matplotlib.lines.Line2D at 0x7c89d0b33b20>]"
      ]
     },
     "execution_count": 140,
     "metadata": {},
     "output_type": "execute_result"
    },
    {
     "data": {
      "image/png": "[encoded data removed]",
      "text/plain": [
       "<Figure size 640x480 with 1 Axes>"
      ]
     },
     "metadata": {},
     "output_type": "display_data"
    }
   ],
   "source": [
    "m1 = generate_probability_matrix(0,200,500, 0.5)\n",
    "m2 = generate_probability_matrix(250,200,500, 0.5)\n",
    "\n",
    "plt.plot(m1.sum(axis=0))\n",
    "plt.plot(m2.sum(axis=0))"
   ]
  },
  {
   "cell_type": "code",
   "execution_count": 141,
   "metadata": {},
   "outputs": [
    {
     "data": {
      "text/plain": [
       "1.0000000000000002"
      ]
     },
     "execution_count": 141,
     "metadata": {},
     "output_type": "execute_result"
    }
   ],
   "source": [
    "matrix.sum(axis=0).sum()"
   ]
  },
  {
   "cell_type": "code",
   "execution_count": null,
   "metadata": {},
   "outputs": [],
   "source": []
  }
 ],
 "metadata": {
  "kernelspec": {
   "display_name": "base",
   "language": "python",
   "name": "python3"
  },
  "language_info": {
   "codemirror_mode": {
    "name": "ipython",
    "version": 3
   },
   "file_extension": ".py",
   "mimetype": "text/x-python",
   "name": "python",
   "nbconvert_exporter": "python",
   "pygments_lexer": "ipython3",
   "version": "3.8.18"
  }
 },
 "nbformat": 4,
 "nbformat_minor": 2
}
