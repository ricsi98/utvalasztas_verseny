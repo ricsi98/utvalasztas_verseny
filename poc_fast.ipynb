{
 "cells": [
  {
   "cell_type": "code",
   "execution_count": 6,
   "metadata": {},
   "outputs": [],
   "source": [
    "from typing import List, Dict, Tuple\n",
    "Node = Tuple[int, int]\n",
    "import numpy as np\n"
   ]
  },
  {
   "cell_type": "code",
   "execution_count": 4,
   "metadata": {},
   "outputs": [],
   "source": [
    "def manhattan_distance(node1: Node, node2: Node) -> float:\n",
    "    return abs(node1[0] - node2[0]) + abs(node1[1] - node2[1])\n",
    "\n",
    "\n",
    "class LatticeDistance:\n",
    "\n",
    "    def __init__(self, n: int) -> None:\n",
    "        self.n = n\n",
    "\n",
    "    def __call__(self, node1: Node, node2: Node) -> float:\n",
    "        dx = abs(node1[0] - node2[0])\n",
    "        dy = abs(node1[1] - node2[1])\n",
    "        if dx > self.n / 2:\n",
    "            dx = self.n - dx\n",
    "        if dy > self.n / 2:\n",
    "            dy = self.n - dy\n",
    "        return dx + dy\n",
    "\n",
    "def euclidean_distance(node1: Node, node2: Node) -> float:\n",
    "    return ((node1[0] - node2[0])**2 + (node1[1] - node2[1])**2)**0.5"
   ]
  },
  {
   "cell_type": "code",
   "execution_count": 49,
   "metadata": {},
   "outputs": [],
   "source": [
    "def num_of_distance(n,i):\n",
    "    assert n % 2 == 1\n",
    "    diameter = (n-1) // 2\n",
    "    if i == 0:\n",
    "        return 1\n",
    "    if i <= diameter:\n",
    "        return 4 * i\n",
    "    z = 2*diameter - i+1\n",
    "    return 4 * z\n",
    "\n",
    "def generate_offset(n, i, o):\n",
    "    assert n % 2 == 1\n",
    "    assert i > 0\n",
    "\n",
    "    diameter = (n-1) // 2\n",
    "    num_possible = num_of_distance(n, i)\n",
    "    assert 0 <= o < num_possible, f\"o={o}, num_possible={num_possible}\"\n",
    "\n",
    "    start = max(0, i - diameter)\n",
    "    end = min(diameter, i)\n",
    "\n",
    "    is_cropped = i > diameter\n",
    "\n",
    "    if is_cropped:\n",
    "        y_sign = 1 if o % 2 == 0 else -1\n",
    "        if o < num_possible // 2:\n",
    "            x = -end + o // 2\n",
    "            y = i - abs(x)\n",
    "            return (x, y * y_sign)\n",
    "        else:\n",
    "            x = start + (o - num_possible // 2) // 2\n",
    "            y = -i + abs(x)\n",
    "            return (x, y * -y_sign)\n",
    "    else:\n",
    "        if o == 0:\n",
    "            return -end, 0\n",
    "        if o == num_possible - 1:\n",
    "            return end, 0\n",
    "        if o < num_possible // 2:\n",
    "            o -= 1\n",
    "            x = -end + 1 + o // 2\n",
    "            y = i - abs(x)\n",
    "            y_sign = 1 if o % 2 == 0 else -1\n",
    "            return (x, y * y_sign)\n",
    "        else:\n",
    "            o -= num_possible // 2\n",
    "            if o == 0:\n",
    "                return start, -end\n",
    "            o -= 1\n",
    "            x = start + 1 + o // 2\n",
    "            y = i - abs(x)\n",
    "            y_sign = 1 if o % 2 == 0 else -1\n",
    "            return (x, y * y_sign)"
   ]
  },
  {
   "cell_type": "code",
   "execution_count": 66,
   "metadata": {},
   "outputs": [],
   "source": [
    "class MultinomialDistanceSampler:\n",
    "\n",
    "    def __init__(self, n: int, alpha: float) -> None:\n",
    "        assert n % 2 == 1\n",
    "        self.n = n\n",
    "        max_distance = n-1\n",
    "        distance_probas = np.array([0] + [i**-alpha for i in range(1, max_distance+1)])\n",
    "        distance_probas[1] = 0\n",
    "        for d in range(max_distance+1):\n",
    "            distance_probas[d] *= num_of_distance(n, d)\n",
    "        distance_probas /= distance_probas.sum()\n",
    "        self.values = np.arange(max_distance+1)\n",
    "        self.probas = distance_probas\n",
    "\n",
    "    def sample(self, n_samples: int) -> int:\n",
    "        return np.random.choice(self.values, p=self.probas, size=n_samples)\n",
    "    \n",
    "\n",
    "class OffsetSampler:\n",
    "\n",
    "    def __init__(self, n: int, alpha: float) -> None:\n",
    "        self.n = n\n",
    "        self.distance_sampler = MultinomialDistanceSampler(n, alpha)\n",
    "\n",
    "    def sample(self) -> Node:\n",
    "        distance = self.distance_sampler.sample(1)[0]\n",
    "        offset = np.random.randint(num_of_distance(self.n, distance))\n",
    "        return generate_offset(self.n, distance, offset)\n",
    "        \n",
    "\n",
    "class PeriodicalLatticeSimulator:\n",
    "\n",
    "    def __init__(self, n: int, alpha: float) -> None:\n",
    "        assert n % 2 == 1, \"Works for odd n only.\"\n",
    "        self.n = n\n",
    "        self.alpha = alpha\n",
    "        self.lattice_distance = LatticeDistance(n)\n",
    "        self.diameter = (n-1)//2\n",
    "        self.offset_sampler = OffsetSampler(n, alpha)\n",
    "\n",
    "\n",
    "    def simulate(self, target: Node) -> int:\n",
    "        assert target[0] <= self.diameter and target[1] <= self.diameter, \"Target is out of bounds.\"\n",
    "        n_rounds = 0\n",
    "        while target != (0, 0):\n",
    "            n_rounds += 1\n",
    "            long_range = list(map(abs, self.offset_sampler.sample()))\n",
    "            long_range_distance = self.lattice_distance(target, long_range)\n",
    "            current_distance = sum(target)\n",
    "            if long_range_distance < current_distance:\n",
    "                target = (target[0] - long_range[0], target[1] - long_range[1])\n",
    "            else:\n",
    "                if target[0] > 0:\n",
    "                    target = (target[0] - 1, target[1])\n",
    "                else:\n",
    "                    target = (target[0], target[1] - 1)\n",
    "        return n_rounds\n",
    "        "
   ]
  },
  {
   "cell_type": "code",
   "execution_count": 69,
   "metadata": {},
   "outputs": [
    {
     "ename": "KeyboardInterrupt",
     "evalue": "",
     "output_type": "error",
     "traceback": [
      "\u001b[0;31m---------------------------------------------------------------------------\u001b[0m",
      "\u001b[0;31mKeyboardInterrupt\u001b[0m                         Traceback (most recent call last)",
      "Cell \u001b[0;32mIn[69], line 2\u001b[0m\n\u001b[1;32m      1\u001b[0m pls \u001b[38;5;241m=\u001b[39m PeriodicalLatticeSimulator(\u001b[38;5;241m15\u001b[39m, \u001b[38;5;241m1\u001b[39m)\n\u001b[0;32m----> 2\u001b[0m \u001b[43mpls\u001b[49m\u001b[38;5;241;43m.\u001b[39;49m\u001b[43msimulate\u001b[49m\u001b[43m(\u001b[49m\u001b[43m(\u001b[49m\u001b[38;5;241;43m7\u001b[39;49m\u001b[43m,\u001b[49m\u001b[38;5;241;43m7\u001b[39;49m\u001b[43m)\u001b[49m\u001b[43m)\u001b[49m\n",
      "Cell \u001b[0;32mIn[66], line 47\u001b[0m, in \u001b[0;36mPeriodicalLatticeSimulator.simulate\u001b[0;34m(self, target)\u001b[0m\n\u001b[1;32m     45\u001b[0m \u001b[38;5;28;01mwhile\u001b[39;00m target \u001b[38;5;241m!=\u001b[39m (\u001b[38;5;241m0\u001b[39m, \u001b[38;5;241m0\u001b[39m):\n\u001b[1;32m     46\u001b[0m     n_rounds \u001b[38;5;241m+\u001b[39m\u001b[38;5;241m=\u001b[39m \u001b[38;5;241m1\u001b[39m\n\u001b[0;32m---> 47\u001b[0m     long_range \u001b[38;5;241m=\u001b[39m \u001b[38;5;28mlist\u001b[39m(\u001b[38;5;28mmap\u001b[39m(\u001b[38;5;28mabs\u001b[39m, \u001b[38;5;28;43mself\u001b[39;49m\u001b[38;5;241;43m.\u001b[39;49m\u001b[43moffset_sampler\u001b[49m\u001b[38;5;241;43m.\u001b[39;49m\u001b[43msample\u001b[49m\u001b[43m(\u001b[49m\u001b[43m)\u001b[49m))\n\u001b[1;32m     48\u001b[0m     long_range_distance \u001b[38;5;241m=\u001b[39m \u001b[38;5;28mself\u001b[39m\u001b[38;5;241m.\u001b[39mlattice_distance(target, long_range)\n\u001b[1;32m     49\u001b[0m     current_distance \u001b[38;5;241m=\u001b[39m \u001b[38;5;28msum\u001b[39m(target)\n",
      "Cell \u001b[0;32mIn[66], line 26\u001b[0m, in \u001b[0;36mOffsetSampler.sample\u001b[0;34m(self)\u001b[0m\n\u001b[1;32m     25\u001b[0m \u001b[38;5;28;01mdef\u001b[39;00m \u001b[38;5;21msample\u001b[39m(\u001b[38;5;28mself\u001b[39m) \u001b[38;5;241m-\u001b[39m\u001b[38;5;241m>\u001b[39m Node:\n\u001b[0;32m---> 26\u001b[0m     distance \u001b[38;5;241m=\u001b[39m \u001b[38;5;28;43mself\u001b[39;49m\u001b[38;5;241;43m.\u001b[39;49m\u001b[43mdistance_sampler\u001b[49m\u001b[38;5;241;43m.\u001b[39;49m\u001b[43msample\u001b[49m\u001b[43m(\u001b[49m\u001b[38;5;241;43m1\u001b[39;49m\u001b[43m)\u001b[49m[\u001b[38;5;241m0\u001b[39m]\n\u001b[1;32m     27\u001b[0m     offset \u001b[38;5;241m=\u001b[39m np\u001b[38;5;241m.\u001b[39mrandom\u001b[38;5;241m.\u001b[39mrandint(num_of_distance(\u001b[38;5;28mself\u001b[39m\u001b[38;5;241m.\u001b[39mn, distance))\n\u001b[1;32m     28\u001b[0m     \u001b[38;5;28;01mreturn\u001b[39;00m generate_offset(\u001b[38;5;28mself\u001b[39m\u001b[38;5;241m.\u001b[39mn, distance, offset)\n",
      "Cell \u001b[0;32mIn[66], line 16\u001b[0m, in \u001b[0;36mMultinomialDistanceSampler.sample\u001b[0;34m(self, n_samples)\u001b[0m\n\u001b[1;32m     15\u001b[0m \u001b[38;5;28;01mdef\u001b[39;00m \u001b[38;5;21msample\u001b[39m(\u001b[38;5;28mself\u001b[39m, n_samples: \u001b[38;5;28mint\u001b[39m) \u001b[38;5;241m-\u001b[39m\u001b[38;5;241m>\u001b[39m \u001b[38;5;28mint\u001b[39m:\n\u001b[0;32m---> 16\u001b[0m     \u001b[38;5;28;01mreturn\u001b[39;00m \u001b[43mnp\u001b[49m\u001b[38;5;241;43m.\u001b[39;49m\u001b[43mrandom\u001b[49m\u001b[38;5;241;43m.\u001b[39;49m\u001b[43mchoice\u001b[49m\u001b[43m(\u001b[49m\u001b[38;5;28;43mself\u001b[39;49m\u001b[38;5;241;43m.\u001b[39;49m\u001b[43mvalues\u001b[49m\u001b[43m,\u001b[49m\u001b[43m \u001b[49m\u001b[43mp\u001b[49m\u001b[38;5;241;43m=\u001b[39;49m\u001b[38;5;28;43mself\u001b[39;49m\u001b[38;5;241;43m.\u001b[39;49m\u001b[43mprobas\u001b[49m\u001b[43m,\u001b[49m\u001b[43m \u001b[49m\u001b[43msize\u001b[49m\u001b[38;5;241;43m=\u001b[39;49m\u001b[43mn_samples\u001b[49m\u001b[43m)\u001b[49m\n",
      "File \u001b[0;32mmtrand.pyx:946\u001b[0m, in \u001b[0;36mnumpy.random.mtrand.RandomState.choice\u001b[0;34m()\u001b[0m\n",
      "File \u001b[0;32m<__array_function__ internals>:180\u001b[0m, in \u001b[0;36mprod\u001b[0;34m(*args, **kwargs)\u001b[0m\n",
      "File \u001b[0;32m~/venvs/base/lib/python3.8/site-packages/numpy/core/fromnumeric.py:2970\u001b[0m, in \u001b[0;36mprod\u001b[0;34m(a, axis, dtype, out, keepdims, initial, where)\u001b[0m\n\u001b[1;32m   2965\u001b[0m \u001b[38;5;28;01mdef\u001b[39;00m \u001b[38;5;21m_prod_dispatcher\u001b[39m(a, axis\u001b[38;5;241m=\u001b[39m\u001b[38;5;28;01mNone\u001b[39;00m, dtype\u001b[38;5;241m=\u001b[39m\u001b[38;5;28;01mNone\u001b[39;00m, out\u001b[38;5;241m=\u001b[39m\u001b[38;5;28;01mNone\u001b[39;00m, keepdims\u001b[38;5;241m=\u001b[39m\u001b[38;5;28;01mNone\u001b[39;00m,\n\u001b[1;32m   2966\u001b[0m                      initial\u001b[38;5;241m=\u001b[39m\u001b[38;5;28;01mNone\u001b[39;00m, where\u001b[38;5;241m=\u001b[39m\u001b[38;5;28;01mNone\u001b[39;00m):\n\u001b[1;32m   2967\u001b[0m     \u001b[38;5;28;01mreturn\u001b[39;00m (a, out)\n\u001b[0;32m-> 2970\u001b[0m \u001b[38;5;129m@array_function_dispatch\u001b[39m(_prod_dispatcher)\n\u001b[1;32m   2971\u001b[0m \u001b[38;5;28;01mdef\u001b[39;00m \u001b[38;5;21mprod\u001b[39m(a, axis\u001b[38;5;241m=\u001b[39m\u001b[38;5;28;01mNone\u001b[39;00m, dtype\u001b[38;5;241m=\u001b[39m\u001b[38;5;28;01mNone\u001b[39;00m, out\u001b[38;5;241m=\u001b[39m\u001b[38;5;28;01mNone\u001b[39;00m, keepdims\u001b[38;5;241m=\u001b[39mnp\u001b[38;5;241m.\u001b[39m_NoValue,\n\u001b[1;32m   2972\u001b[0m          initial\u001b[38;5;241m=\u001b[39mnp\u001b[38;5;241m.\u001b[39m_NoValue, where\u001b[38;5;241m=\u001b[39mnp\u001b[38;5;241m.\u001b[39m_NoValue):\n\u001b[1;32m   2973\u001b[0m \u001b[38;5;250m    \u001b[39m\u001b[38;5;124;03m\"\"\"\u001b[39;00m\n\u001b[1;32m   2974\u001b[0m \u001b[38;5;124;03m    Return the product of array elements over a given axis.\u001b[39;00m\n\u001b[1;32m   2975\u001b[0m \n\u001b[0;32m   (...)\u001b[0m\n\u001b[1;32m   3086\u001b[0m \u001b[38;5;124;03m    10\u001b[39;00m\n\u001b[1;32m   3087\u001b[0m \u001b[38;5;124;03m    \"\"\"\u001b[39;00m\n\u001b[1;32m   3088\u001b[0m     \u001b[38;5;28;01mreturn\u001b[39;00m _wrapreduction(a, np\u001b[38;5;241m.\u001b[39mmultiply, \u001b[38;5;124m'\u001b[39m\u001b[38;5;124mprod\u001b[39m\u001b[38;5;124m'\u001b[39m, axis, dtype, out,\n\u001b[1;32m   3089\u001b[0m                           keepdims\u001b[38;5;241m=\u001b[39mkeepdims, initial\u001b[38;5;241m=\u001b[39minitial, where\u001b[38;5;241m=\u001b[39mwhere)\n",
      "\u001b[0;31mKeyboardInterrupt\u001b[0m: "
     ]
    }
   ],
   "source": [
    "pls = PeriodicalLatticeSimulator(15, 1)\n",
    "pls.simulate((7,7))"
   ]
  },
  {
   "cell_type": "code",
   "execution_count": 55,
   "metadata": {},
   "outputs": [
    {
     "name": "stdout",
     "output_type": "stream",
     "text": [
      "[ 0  1  2  3  4  5  6  7  8  9 10 11 12 13 14] [0.         0.         0.11260529 0.11260529 0.11260529 0.11260529\n",
      " 0.11260529 0.11260529 0.09852963 0.07507019 0.05630264 0.04094738\n",
      " 0.02815132 0.01732389 0.00804323]\n"
     ]
    },
    {
     "data": {
      "text/plain": [
       "[<matplotlib.lines.Line2D at 0x7fe5dcf97190>]"
      ]
     },
     "execution_count": 55,
     "metadata": {},
     "output_type": "execute_result"
    },
    {
     "data": {
      "image/png": "[encoded data removed]",
      "text/plain": [
       "<Figure size 640x480 with 1 Axes>"
      ]
     },
     "metadata": {},
     "output_type": "display_data"
    }
   ],
   "source": [
    "import matplotlib.pyplot as plt\n",
    "mds = MultinomialDistanceSampler(15, 1)\n",
    "plt.hist(mds.sample(100000), bins=15-2)\n",
    "plt.plot(mds.values, mds.probas * 100000)"
   ]
  },
  {
   "cell_type": "code",
   "execution_count": null,
   "metadata": {},
   "outputs": [],
   "source": []
  }
 ],
 "metadata": {
  "kernelspec": {
   "display_name": "base",
   "language": "python",
   "name": "python3"
  },
  "language_info": {
   "codemirror_mode": {
    "name": "ipython",
    "version": 3
   },
   "file_extension": ".py",
   "mimetype": "text/x-python",
   "name": "python",
   "nbconvert_exporter": "python",
   "pygments_lexer": "ipython3",
   "version": "3.8.18"
  }
 },
 "nbformat": 4,
 "nbformat_minor": 2
}
