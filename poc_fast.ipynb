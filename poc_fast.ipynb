{
 "cells": [
  {
   "cell_type": "code",
   "execution_count": 1,
   "metadata": {},
   "outputs": [],
   "source": [
    "from typing import List, Dict, Tuple\n",
    "Node = Tuple[int, int]\n",
    "import numpy as np\n"
   ]
  },
  {
   "cell_type": "code",
   "execution_count": 2,
   "metadata": {},
   "outputs": [],
   "source": [
    "def manhattan_distance(node1: Node, node2: Node) -> float:\n",
    "    return abs(node1[0] - node2[0]) + abs(node1[1] - node2[1])\n",
    "\n",
    "\n",
    "class LatticeDistance:\n",
    "\n",
    "    def __init__(self, n: int) -> None:\n",
    "        self.n = n\n",
    "\n",
    "    def __call__(self, node1: Node, node2: Node) -> float:\n",
    "        dx = abs(node1[0] - node2[0])\n",
    "        dy = abs(node1[1] - node2[1])\n",
    "        if dx > self.n / 2:\n",
    "            dx = self.n - dx\n",
    "        if dy > self.n / 2:\n",
    "            dy = self.n - dy\n",
    "        return dx + dy\n",
    "\n",
    "def euclidean_distance(node1: Node, node2: Node) -> float:\n",
    "    return ((node1[0] - node2[0])**2 + (node1[1] - node2[1])**2)**0.5"
   ]
  },
  {
   "cell_type": "code",
   "execution_count": 3,
   "metadata": {},
   "outputs": [],
   "source": [
    "def num_of_distance(n,i):\n",
    "    assert n % 2 == 1\n",
    "    diameter = (n-1) // 2\n",
    "    if i == 0:\n",
    "        return 1\n",
    "    if i <= diameter:\n",
    "        return 4 * i\n",
    "    z = 2*diameter - i+1\n",
    "    return 4 * z\n",
    "\n",
    "def generate_offset(n, i, o):\n",
    "    assert n % 2 == 1\n",
    "    assert i > 0\n",
    "\n",
    "    diameter = (n-1) // 2\n",
    "    num_possible = num_of_distance(n, i)\n",
    "    assert 0 <= o < num_possible, f\"o={o}, num_possible={num_possible}\"\n",
    "\n",
    "    start = max(0, i - diameter)\n",
    "    end = min(diameter, i)\n",
    "\n",
    "    is_cropped = i > diameter\n",
    "\n",
    "    if is_cropped:\n",
    "        y_sign = 1 if o % 2 == 0 else -1\n",
    "        if o < num_possible // 2:\n",
    "            x = -end + o // 2\n",
    "            y = i - abs(x)\n",
    "            return (x, y * y_sign)\n",
    "        else:\n",
    "            x = start + (o - num_possible // 2) // 2\n",
    "            y = -i + abs(x)\n",
    "            return (x, y * -y_sign)\n",
    "    else:\n",
    "        if o == 0:\n",
    "            return -end, 0\n",
    "        if o == num_possible - 1:\n",
    "            return end, 0\n",
    "        if o < num_possible // 2:\n",
    "            o -= 1\n",
    "            x = -end + 1 + o // 2\n",
    "            y = i - abs(x)\n",
    "            y_sign = 1 if o % 2 == 0 else -1\n",
    "            return (x, y * y_sign)\n",
    "        else:\n",
    "            o -= num_possible // 2\n",
    "            if o == 0:\n",
    "                return start, -end\n",
    "            o -= 1\n",
    "            x = start + 1 + o // 2\n",
    "            y = i - abs(x)\n",
    "            y_sign = 1 if o % 2 == 0 else -1\n",
    "            return (x, y * y_sign)"
   ]
  },
  {
   "cell_type": "code",
   "execution_count": 65,
   "metadata": {},
   "outputs": [],
   "source": [
    "class MultinomialDistanceSampler:\n",
    "\n",
    "    def __init__(self, n: int, alpha: float, distorted_probas: bool) -> None:\n",
    "        assert n % 2 == 1\n",
    "        self.n = n\n",
    "        max_distance = n-1\n",
    "        distance_probas = np.array([0] + [i**-alpha for i in range(1, max_distance+1)])\n",
    "        distance_probas[1] = 0\n",
    "        if distorted_probas:\n",
    "            for d in range(max_distance+1):\n",
    "                distance_probas[d] *= num_of_distance(n, d)\n",
    "        distance_probas /= distance_probas.sum()\n",
    "        self.values = np.arange(max_distance+1)\n",
    "        self.probas = distance_probas\n",
    "\n",
    "    def sample(self, n_samples: int) -> int:\n",
    "        return np.random.choice(self.values, p=self.probas, size=n_samples)\n",
    "    \n",
    "\n",
    "class OffsetSampler:\n",
    "\n",
    "    def __init__(self, n: int, alpha: float, distorted_probas: bool) -> None:\n",
    "        self.n = n\n",
    "        self.distance_sampler = MultinomialDistanceSampler(n, alpha, distorted_probas)\n",
    "\n",
    "    def sample(self) -> Node:\n",
    "        distance = self.distance_sampler.sample(1)[0]\n",
    "        offset = np.random.randint(num_of_distance(self.n, distance))\n",
    "        return generate_offset(self.n, distance, offset)\n",
    "        \n",
    "\n",
    "class PeriodicalLatticeSimulator:\n",
    "\n",
    "    def __init__(self, n: int, alpha: float, distorted_probas: bool) -> None:\n",
    "        assert n % 2 == 1, \"Works for odd n only.\"\n",
    "        self.n = n\n",
    "        self.alpha = alpha\n",
    "        self.lattice_distance = LatticeDistance(n)\n",
    "        self.diameter = (n-1)//2\n",
    "        self.offset_sampler = OffsetSampler(n, alpha, distorted_probas)\n",
    "\n",
    "\n",
    "    def simulate(self, target: Node) -> int:\n",
    "        assert target[0] <= self.diameter and target[1] <= self.diameter, \"Target is out of bounds.\"\n",
    "        n_rounds = 0\n",
    "        while target != (0, 0):\n",
    "            n_rounds += 1\n",
    "            long_range = list(map(abs, self.offset_sampler.sample()))\n",
    "            long_range_distance = self.lattice_distance(target, long_range)\n",
    "            current_distance = sum(target)\n",
    "            if long_range_distance < current_distance:\n",
    "                target = (target[0] - long_range[0], target[1] - long_range[1])\n",
    "            else:\n",
    "                if target[0] > 0:\n",
    "                    target = (target[0] - 1, target[1])\n",
    "                else:\n",
    "                    target = (target[0], target[1] - 1)\n",
    "            # corrigate flips\n",
    "            target = (abs(target[0]), abs(target[1]))\n",
    "        return n_rounds\n",
    "        "
   ]
  },
  {
   "cell_type": "code",
   "execution_count": 76,
   "metadata": {},
   "outputs": [
    {
     "name": "stderr",
     "output_type": "stream",
     "text": [
      " 23%|██▎       | 6/26 [00:17<00:50,  2.53s/it]"
     ]
    }
   ],
   "source": [
    "from tqdm import tqdm\n",
    "\n",
    "NSIM = 50\n",
    "N = 40_001\n",
    "\n",
    "result = []\n",
    "for alpha in tqdm(np.linspace(0, 2.5, 26), total=26):\n",
    "    curr_result = []\n",
    "    for _ in range(NSIM):\n",
    "        simulator = PeriodicalLatticeSimulator(N, alpha, distorted_probas=False)\n",
    "        target = (np.random.randint(N//2), np.random.randint(N//2))\n",
    "        steps = simulator.simulate(target)\n",
    "        curr_result.append(steps)\n",
    "    result.append((np.mean(curr_result), np.std(curr_result)))\n"
   ]
  },
  {
   "cell_type": "code",
   "execution_count": 75,
   "metadata": {},
   "outputs": [
    {
     "data": {
      "image/png": "[encoded data removed]",
      "text/plain": [
       "<Figure size 640x480 with 1 Axes>"
      ]
     },
     "metadata": {},
     "output_type": "display_data"
    }
   ],
   "source": [
    "import matplotlib.pyplot as plt\n",
    "\n",
    "result = np.array(result)\n",
    "plt.errorbar(np.linspace(0, 2.5, 26), np.log(result[:, 0]))\n",
    "plt.xlabel(\"Alpha\")\n",
    "plt.ylabel(\"Number of steps\")\n",
    "#plt.yscale(\"log\")\n",
    "plt.show()"
   ]
  },
  {
   "cell_type": "code",
   "execution_count": 58,
   "metadata": {},
   "outputs": [
    {
     "ename": "TypeError",
     "evalue": "__init__() missing 1 required positional argument: 'distorted_probas'",
     "output_type": "error",
     "traceback": [
      "\u001b[0;31m---------------------------------------------------------------------------\u001b[0m",
      "\u001b[0;31mTypeError\u001b[0m                                 Traceback (most recent call last)",
      "Cell \u001b[0;32mIn[58], line 2\u001b[0m\n\u001b[1;32m      1\u001b[0m \u001b[38;5;28;01mimport\u001b[39;00m \u001b[38;5;21;01mmatplotlib\u001b[39;00m\u001b[38;5;21;01m.\u001b[39;00m\u001b[38;5;21;01mpyplot\u001b[39;00m \u001b[38;5;28;01mas\u001b[39;00m \u001b[38;5;21;01mplt\u001b[39;00m\n\u001b[0;32m----> 2\u001b[0m mds \u001b[38;5;241m=\u001b[39m \u001b[43mMultinomialDistanceSampler\u001b[49m\u001b[43m(\u001b[49m\u001b[38;5;241;43m15\u001b[39;49m\u001b[43m,\u001b[49m\u001b[43m \u001b[49m\u001b[38;5;241;43m1\u001b[39;49m\u001b[43m)\u001b[49m\n\u001b[1;32m      3\u001b[0m plt\u001b[38;5;241m.\u001b[39mhist(mds\u001b[38;5;241m.\u001b[39msample(\u001b[38;5;241m100000\u001b[39m), bins\u001b[38;5;241m=\u001b[39m\u001b[38;5;241m15\u001b[39m\u001b[38;5;241m-\u001b[39m\u001b[38;5;241m2\u001b[39m)\n\u001b[1;32m      4\u001b[0m plt\u001b[38;5;241m.\u001b[39mplot(mds\u001b[38;5;241m.\u001b[39mvalues, mds\u001b[38;5;241m.\u001b[39mprobas \u001b[38;5;241m*\u001b[39m \u001b[38;5;241m100000\u001b[39m)\n",
      "\u001b[0;31mTypeError\u001b[0m: __init__() missing 1 required positional argument: 'distorted_probas'"
     ]
    }
   ],
   "source": [
    "import matplotlib.pyplot as plt\n",
    "mds = MultinomialDistanceSampler(15, 1)\n",
    "plt.hist(mds.sample(100000), bins=15-2)\n",
    "plt.plot(mds.values, mds.probas * 100000)"
   ]
  },
  {
   "cell_type": "code",
   "execution_count": null,
   "metadata": {},
   "outputs": [],
   "source": []
  }
 ],
 "metadata": {
  "kernelspec": {
   "display_name": "base",
   "language": "python",
   "name": "python3"
  },
  "language_info": {
   "codemirror_mode": {
    "name": "ipython",
    "version": 3
   },
   "file_extension": ".py",
   "mimetype": "text/x-python",
   "name": "python",
   "nbconvert_exporter": "python",
   "pygments_lexer": "ipython3",
   "version": "3.8.18"
  }
 },
 "nbformat": 4,
 "nbformat_minor": 2
}
